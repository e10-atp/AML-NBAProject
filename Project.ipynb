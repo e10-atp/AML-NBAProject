{
 "cells": [
  {
   "cell_type": "code",
   "execution_count": 1,
   "metadata": {},
   "outputs": [],
   "source": [
    "import pandas as pd\n",
    "import numpy as np\n",
    "\n",
    "#df1 includes both active and inactive players\n",
    "df1 = pd.read_csv('NBA_AllTimeLeader.csv')\n",
    "#df2 includes only active players\n",
    "df2 = pd.read_csv('NBA_AllTimeLeader_Active.csv')\n",
    "hof = []\n",
    "with open('HOF.csv', 'r') as f:\n",
    "    for line in f:\n",
    "        hof.append(line.strip())"
   ]
  },
  {
   "cell_type": "code",
   "execution_count": 2,
   "outputs": [
    {
     "data": {
      "text/plain": "['Kareem Abdul-Jabbar',\n 'Ray Allen',\n 'Nate Archibald',\n 'Paul Arizin',\n 'Al Attles',\n 'Charles Barkley',\n 'Don Barksdale',\n 'Rick Barry',\n 'Elgin Baylor',\n 'Zelmo Beaty',\n 'Walt Bellamy',\n 'Dave Bing',\n 'Larry Bird',\n 'Chris Bosh',\n 'Bill Bradley',\n 'Carl Braun',\n 'Kobe Bryant',\n 'Al Cervi',\n 'Wilt Chamberlain',\n 'Maurice Cheeks',\n 'Nat Clifton',\n 'Chuck Cooper',\n 'Bob Cousy',\n 'Dave Cowens',\n 'Billy Cunningham',\n 'Louie Dampier',\n 'Bob Dandridge',\n 'Mel Daniels',\n 'Adrian Dantley',\n 'Bob Davies',\n 'Dave DeBusschere',\n 'Vlade Divac',\n 'Clyde Drexler',\n 'Joe Dumars',\n 'Tim Duncan',\n 'Alex English',\n 'Julius Erving',\n 'Patrick Ewing',\n 'Walt Frazier',\n 'Joe Fulks',\n 'Harry Gallatin',\n 'Kevin Garnett',\n 'George Gervin',\n 'Artis Gilmore',\n 'Tom Gola',\n 'Gail Goodrich',\n 'Hal Greer',\n 'Richie Guerin',\n 'Cliff Hagan',\n 'John Havlicek',\n 'Connie Hawkins',\n 'Elvin Hayes',\n 'Spencer Haywood',\n 'Tom Heinsohn',\n 'Grant Hill',\n 'Bob Houbregs',\n 'Bailey Howell',\n 'Dan Issel',\n 'Allen Iverson',\n 'Buddy Jeannette',\n 'Dennis Johnson',\n 'Gus Johnson',\n 'Magic Johnson',\n 'Neil Johnston',\n 'Bobby Jones',\n 'K.C. Jones',\n 'Sam Jones',\n 'Michael Jordan',\n 'Jason Kidd',\n 'Bernard King',\n 'Toni Kukoc',\n 'Bob Lanier',\n 'Clyde Lovellette',\n 'Jerry Lucas',\n 'Ed Macauley',\n 'Karl Malone',\n 'Moses Malone',\n 'Pete Maravich',\n 'Sarunas Marciulionis',\n 'Slater Martin',\n 'Bob McAdoo',\n 'George McGinnis',\n 'Tracy McGrady',\n 'Dick McGuire',\n 'Kevin McHale',\n 'George Mikan',\n 'Vern Mikkelsen',\n 'Reggie Miller',\n 'Yao Ming',\n 'Sidney Moncrief',\n 'Earl Monroe',\n 'Alonzo Mourning',\n 'Chris Mullin',\n 'Calvin Murphy',\n 'Dikembe Mutombo',\n 'Steve Nash',\n 'Hakeem Olajuwon',\n \"Shaquille O'Neal\",\n 'Robert Parish',\n 'Gary Payton',\n 'Drazen Petrovic',\n 'Bob Pettit',\n 'Andy Phillip',\n 'Paul Pierce',\n 'Scottie Pippen',\n 'Jim Pollard',\n 'Dino Radja',\n 'Frank Ramsey',\n 'Willis Reed',\n 'Mitch Richmond',\n 'Arnie Risen',\n 'Oscar Robertson',\n 'David Robinson',\n 'Guy Rodgers',\n 'Dennis Rodman',\n 'Bill Russell',\n 'Arvydas Sabonis',\n 'Ralph Sampson',\n 'Dolph Schayes',\n 'Bill Sharman',\n 'Jack Sikma',\n 'John Stockton',\n 'Maurice Stokes',\n 'Isiah Thomas',\n 'David Thompson',\n 'Nate Thurmond',\n 'Jack Twyman',\n 'Wes Unseld',\n 'Chet Walker',\n 'Ben Wallace',\n 'Bill Walton',\n 'Bobby Wanzer',\n 'Chris Webber',\n 'Jerry West',\n 'Paul Westphal',\n 'Jo Jo White',\n 'Lenny Wilkens',\n 'Jamaal Wilkes',\n 'Dominique Wilkins',\n 'James Worthy',\n 'George Yardley']"
     },
     "execution_count": 2,
     "metadata": {},
     "output_type": "execute_result"
    }
   ],
   "source": [
    "hof"
   ],
   "metadata": {
    "collapsed": false,
    "pycharm": {
     "name": "#%%\n"
    }
   }
  },
  {
   "cell_type": "code",
   "execution_count": 3,
   "outputs": [],
   "source": [
    "#drop duplicates from merging pts, ast, steal, reb, blk all-times\n",
    "df1 = df1.drop_duplicates(subset='PLAYER')\n",
    "df2 = df2.drop_duplicates(subset='PLAYER')"
   ],
   "metadata": {
    "collapsed": false,
    "pycharm": {
     "name": "#%%\n"
    }
   }
  },
  {
   "cell_type": "code",
   "execution_count": 4,
   "outputs": [],
   "source": [
    "df1['HOF'] = [1.0 if player in hof else 0.0 for player in df1['PLAYER']]"
   ],
   "metadata": {
    "collapsed": false,
    "pycharm": {
     "name": "#%%\n"
    }
   }
  },
  {
   "cell_type": "code",
   "execution_count": 5,
   "outputs": [],
   "source": [
    "df1['GP'] = pd.to_numeric(df1['GP'].str.replace(',',''))\n",
    "df2['GP'] = pd.to_numeric(df2['GP'].str.replace(',',''))\n",
    "df1 = df1.replace('-', np.NaN)"
   ],
   "metadata": {
    "collapsed": false,
    "pycharm": {
     "name": "#%%\n"
    }
   }
  },
  {
   "cell_type": "code",
   "execution_count": 6,
   "metadata": {},
   "outputs": [
    {
     "data": {
      "text/plain": "        #               PLAYER    GP    MIN    PTS    FGM    FGA   FG%   3PM  \\\n0       1  Kareem Abdul-Jabbar  1560  57446  38387  15837  28307  55.9     1   \n1       2          Karl Malone  1476  54852  36928  13528  26210  51.6    85   \n2       3         LeBron James  1325  50605  35757  13051  25900  50.4  2020   \n3       4          Kobe Bryant  1346  48643  33643  11719  26200  44.7  1827   \n4       5       Michael Jordan  1072  41010  32292  12192  24537  49.7   581   \n...   ...                  ...   ...    ...    ...    ...    ...   ...   ...   \n1734  424           Trae Young   229   7603   5578   1786   4117  43.4   566   \n5474  227   Kristaps Porzingis   304   9445   5694   2057   4655  44.2   552   \n5477  231           Keon Clark   353   7973   2882   1179   2359  50.0     1   \n5489  242        Jawann Oldham   329   5241   1455    608   1269  47.9     0   \n5509  263        Eddie Griffin   303   6729   2171    854   2263  37.7   237   \n\n       3PA  ...  OREB   DREB    REB   AST   STL   BLK   TOV  EFG%   TS%  HOF  \n0       18  ...  2975   9394  17440  5660  1160  3189  2527  55.9  59.2  1.0  \n1      310  ...  3562  11406  14968  5248  2085  1145  4524  51.8  57.7  1.0  \n2     5856  ...  1548   8290   9838  9799  2092   994  4646  54.3  58.7  0.0  \n3     5546  ...  1499   5548   7047  6306  1944   640  4010  48.2  55.0  1.0  \n4     1778  ...  1668   5004   6672  5633  2514   893  2924  50.9  56.9  1.0  \n...    ...  ...   ...    ...    ...   ...   ...   ...   ...   ...   ...  ...  \n1734  1623  ...   152    748    900  2043   213    38   957  50.3  57.5  0.0  \n5474  1546  ...   527   1849   2376   455   212   577   499  50.1  54.6  0.0  \n5477    19  ...   655   1441   2096   322   184   571   470  50.0  53.1  0.0  \n5489     3  ...   431    922   1353   162    97   546   362  47.9  50.4  0.0  \n5509   752  ...   497   1247   1744   236   105   518   227  43.0  45.0  0.0  \n\n[1314 rows x 24 columns]",
      "text/html": "<div>\n<style scoped>\n    .dataframe tbody tr th:only-of-type {\n        vertical-align: middle;\n    }\n\n    .dataframe tbody tr th {\n        vertical-align: top;\n    }\n\n    .dataframe thead th {\n        text-align: right;\n    }\n</style>\n<table border=\"1\" class=\"dataframe\">\n  <thead>\n    <tr style=\"text-align: right;\">\n      <th></th>\n      <th>#</th>\n      <th>PLAYER</th>\n      <th>GP</th>\n      <th>MIN</th>\n      <th>PTS</th>\n      <th>FGM</th>\n      <th>FGA</th>\n      <th>FG%</th>\n      <th>3PM</th>\n      <th>3PA</th>\n      <th>...</th>\n      <th>OREB</th>\n      <th>DREB</th>\n      <th>REB</th>\n      <th>AST</th>\n      <th>STL</th>\n      <th>BLK</th>\n      <th>TOV</th>\n      <th>EFG%</th>\n      <th>TS%</th>\n      <th>HOF</th>\n    </tr>\n  </thead>\n  <tbody>\n    <tr>\n      <th>0</th>\n      <td>1</td>\n      <td>Kareem Abdul-Jabbar</td>\n      <td>1560</td>\n      <td>57446</td>\n      <td>38387</td>\n      <td>15837</td>\n      <td>28307</td>\n      <td>55.9</td>\n      <td>1</td>\n      <td>18</td>\n      <td>...</td>\n      <td>2975</td>\n      <td>9394</td>\n      <td>17440</td>\n      <td>5660</td>\n      <td>1160</td>\n      <td>3189</td>\n      <td>2527</td>\n      <td>55.9</td>\n      <td>59.2</td>\n      <td>1.0</td>\n    </tr>\n    <tr>\n      <th>1</th>\n      <td>2</td>\n      <td>Karl Malone</td>\n      <td>1476</td>\n      <td>54852</td>\n      <td>36928</td>\n      <td>13528</td>\n      <td>26210</td>\n      <td>51.6</td>\n      <td>85</td>\n      <td>310</td>\n      <td>...</td>\n      <td>3562</td>\n      <td>11406</td>\n      <td>14968</td>\n      <td>5248</td>\n      <td>2085</td>\n      <td>1145</td>\n      <td>4524</td>\n      <td>51.8</td>\n      <td>57.7</td>\n      <td>1.0</td>\n    </tr>\n    <tr>\n      <th>2</th>\n      <td>3</td>\n      <td>LeBron James</td>\n      <td>1325</td>\n      <td>50605</td>\n      <td>35757</td>\n      <td>13051</td>\n      <td>25900</td>\n      <td>50.4</td>\n      <td>2020</td>\n      <td>5856</td>\n      <td>...</td>\n      <td>1548</td>\n      <td>8290</td>\n      <td>9838</td>\n      <td>9799</td>\n      <td>2092</td>\n      <td>994</td>\n      <td>4646</td>\n      <td>54.3</td>\n      <td>58.7</td>\n      <td>0.0</td>\n    </tr>\n    <tr>\n      <th>3</th>\n      <td>4</td>\n      <td>Kobe Bryant</td>\n      <td>1346</td>\n      <td>48643</td>\n      <td>33643</td>\n      <td>11719</td>\n      <td>26200</td>\n      <td>44.7</td>\n      <td>1827</td>\n      <td>5546</td>\n      <td>...</td>\n      <td>1499</td>\n      <td>5548</td>\n      <td>7047</td>\n      <td>6306</td>\n      <td>1944</td>\n      <td>640</td>\n      <td>4010</td>\n      <td>48.2</td>\n      <td>55.0</td>\n      <td>1.0</td>\n    </tr>\n    <tr>\n      <th>4</th>\n      <td>5</td>\n      <td>Michael Jordan</td>\n      <td>1072</td>\n      <td>41010</td>\n      <td>32292</td>\n      <td>12192</td>\n      <td>24537</td>\n      <td>49.7</td>\n      <td>581</td>\n      <td>1778</td>\n      <td>...</td>\n      <td>1668</td>\n      <td>5004</td>\n      <td>6672</td>\n      <td>5633</td>\n      <td>2514</td>\n      <td>893</td>\n      <td>2924</td>\n      <td>50.9</td>\n      <td>56.9</td>\n      <td>1.0</td>\n    </tr>\n    <tr>\n      <th>...</th>\n      <td>...</td>\n      <td>...</td>\n      <td>...</td>\n      <td>...</td>\n      <td>...</td>\n      <td>...</td>\n      <td>...</td>\n      <td>...</td>\n      <td>...</td>\n      <td>...</td>\n      <td>...</td>\n      <td>...</td>\n      <td>...</td>\n      <td>...</td>\n      <td>...</td>\n      <td>...</td>\n      <td>...</td>\n      <td>...</td>\n      <td>...</td>\n      <td>...</td>\n      <td>...</td>\n    </tr>\n    <tr>\n      <th>1734</th>\n      <td>424</td>\n      <td>Trae Young</td>\n      <td>229</td>\n      <td>7603</td>\n      <td>5578</td>\n      <td>1786</td>\n      <td>4117</td>\n      <td>43.4</td>\n      <td>566</td>\n      <td>1623</td>\n      <td>...</td>\n      <td>152</td>\n      <td>748</td>\n      <td>900</td>\n      <td>2043</td>\n      <td>213</td>\n      <td>38</td>\n      <td>957</td>\n      <td>50.3</td>\n      <td>57.5</td>\n      <td>0.0</td>\n    </tr>\n    <tr>\n      <th>5474</th>\n      <td>227</td>\n      <td>Kristaps Porzingis</td>\n      <td>304</td>\n      <td>9445</td>\n      <td>5694</td>\n      <td>2057</td>\n      <td>4655</td>\n      <td>44.2</td>\n      <td>552</td>\n      <td>1546</td>\n      <td>...</td>\n      <td>527</td>\n      <td>1849</td>\n      <td>2376</td>\n      <td>455</td>\n      <td>212</td>\n      <td>577</td>\n      <td>499</td>\n      <td>50.1</td>\n      <td>54.6</td>\n      <td>0.0</td>\n    </tr>\n    <tr>\n      <th>5477</th>\n      <td>231</td>\n      <td>Keon Clark</td>\n      <td>353</td>\n      <td>7973</td>\n      <td>2882</td>\n      <td>1179</td>\n      <td>2359</td>\n      <td>50.0</td>\n      <td>1</td>\n      <td>19</td>\n      <td>...</td>\n      <td>655</td>\n      <td>1441</td>\n      <td>2096</td>\n      <td>322</td>\n      <td>184</td>\n      <td>571</td>\n      <td>470</td>\n      <td>50.0</td>\n      <td>53.1</td>\n      <td>0.0</td>\n    </tr>\n    <tr>\n      <th>5489</th>\n      <td>242</td>\n      <td>Jawann Oldham</td>\n      <td>329</td>\n      <td>5241</td>\n      <td>1455</td>\n      <td>608</td>\n      <td>1269</td>\n      <td>47.9</td>\n      <td>0</td>\n      <td>3</td>\n      <td>...</td>\n      <td>431</td>\n      <td>922</td>\n      <td>1353</td>\n      <td>162</td>\n      <td>97</td>\n      <td>546</td>\n      <td>362</td>\n      <td>47.9</td>\n      <td>50.4</td>\n      <td>0.0</td>\n    </tr>\n    <tr>\n      <th>5509</th>\n      <td>263</td>\n      <td>Eddie Griffin</td>\n      <td>303</td>\n      <td>6729</td>\n      <td>2171</td>\n      <td>854</td>\n      <td>2263</td>\n      <td>37.7</td>\n      <td>237</td>\n      <td>752</td>\n      <td>...</td>\n      <td>497</td>\n      <td>1247</td>\n      <td>1744</td>\n      <td>236</td>\n      <td>105</td>\n      <td>518</td>\n      <td>227</td>\n      <td>43.0</td>\n      <td>45.0</td>\n      <td>0.0</td>\n    </tr>\n  </tbody>\n</table>\n<p>1314 rows × 24 columns</p>\n</div>"
     },
     "execution_count": 6,
     "metadata": {},
     "output_type": "execute_result"
    }
   ],
   "source": [
    "df1"
   ]
  },
  {
   "cell_type": "code",
   "execution_count": 7,
   "metadata": {},
   "outputs": [
    {
     "data": {
      "text/plain": "       #              PLAYER    GP    MIN    PTS    FGM    FGA   FG%   3PM  \\\n0      1        LeBron James  1325  50605  35757  13051  25900  50.4  2020   \n1      2     Carmelo Anthony  1218  42471  27736   9923  22205  44.7  1647   \n2      3        Kevin Durant   908  33333  24567   8388  16934  49.5  1696   \n3      4        James Harden   903  31140  22587   6667  15040  44.3  2509   \n4      5   Russell Westbrook   970  33719  22384   7971  18211  43.8  1099   \n..   ...                 ...   ...    ...    ...    ...    ...   ...   ...   \n141  142          Tyus Jones   408   7342   2359    911   2108  43.2   243   \n317   34  Kristaps Porzingis   304   9445   5694   2057   4655  44.2   552   \n613   45         Ben Simmons   275   9326   4382   1784   3188  56.0     5   \n615   47          Trae Young   230   7639   5609   1796   4144  43.3   568   \n616   48    D'Angelo Russell   380  11086   6727   2459   5871  41.9   927   \n\n      3PA  ...  OREB  DREB   REB   AST   STL   BLK   TOV  EFG%   TS%  HOF  \n0    5856  ...  1548  8290  9838  9799  2092   994  4646  54.3  58.7    0  \n1    4636  ...  1944  5687  7631  3378  1196   607  3016  48.4  54.2    0  \n2    4421  ...   642  5779  6421  3811   989  1005  2847  54.5  61.5    0  \n3    6918  ...   710  4290  5000  5980  1403   493  3385  52.7  61.1    0  \n4    3592  ...  1615  5555  7170  8292  1656   299  4018  46.8  52.8    0  \n..    ...  ...   ...   ...   ...   ...   ...   ...   ...   ...   ...  ...  \n141   705  ...    91   599   690  1476   401    33   300  49.0  52.1    0  \n317  1546  ...   527  1849  2376   455   212   577   499  50.1  54.6    0  \n613    34  ...   523  1694  2217  2127   464   199   925  56.0  57.9    0  \n615  1631  ...   157   750   907  2053   215    38   964  50.2  57.4    0  \n616  2594  ...   204  1164  1368  2045   427   113  1087  49.8  52.8    0  \n\n[146 rows x 24 columns]",
      "text/html": "<div>\n<style scoped>\n    .dataframe tbody tr th:only-of-type {\n        vertical-align: middle;\n    }\n\n    .dataframe tbody tr th {\n        vertical-align: top;\n    }\n\n    .dataframe thead th {\n        text-align: right;\n    }\n</style>\n<table border=\"1\" class=\"dataframe\">\n  <thead>\n    <tr style=\"text-align: right;\">\n      <th></th>\n      <th>#</th>\n      <th>PLAYER</th>\n      <th>GP</th>\n      <th>MIN</th>\n      <th>PTS</th>\n      <th>FGM</th>\n      <th>FGA</th>\n      <th>FG%</th>\n      <th>3PM</th>\n      <th>3PA</th>\n      <th>...</th>\n      <th>OREB</th>\n      <th>DREB</th>\n      <th>REB</th>\n      <th>AST</th>\n      <th>STL</th>\n      <th>BLK</th>\n      <th>TOV</th>\n      <th>EFG%</th>\n      <th>TS%</th>\n      <th>HOF</th>\n    </tr>\n  </thead>\n  <tbody>\n    <tr>\n      <th>0</th>\n      <td>1</td>\n      <td>LeBron James</td>\n      <td>1325</td>\n      <td>50605</td>\n      <td>35757</td>\n      <td>13051</td>\n      <td>25900</td>\n      <td>50.4</td>\n      <td>2020</td>\n      <td>5856</td>\n      <td>...</td>\n      <td>1548</td>\n      <td>8290</td>\n      <td>9838</td>\n      <td>9799</td>\n      <td>2092</td>\n      <td>994</td>\n      <td>4646</td>\n      <td>54.3</td>\n      <td>58.7</td>\n      <td>0</td>\n    </tr>\n    <tr>\n      <th>1</th>\n      <td>2</td>\n      <td>Carmelo Anthony</td>\n      <td>1218</td>\n      <td>42471</td>\n      <td>27736</td>\n      <td>9923</td>\n      <td>22205</td>\n      <td>44.7</td>\n      <td>1647</td>\n      <td>4636</td>\n      <td>...</td>\n      <td>1944</td>\n      <td>5687</td>\n      <td>7631</td>\n      <td>3378</td>\n      <td>1196</td>\n      <td>607</td>\n      <td>3016</td>\n      <td>48.4</td>\n      <td>54.2</td>\n      <td>0</td>\n    </tr>\n    <tr>\n      <th>2</th>\n      <td>3</td>\n      <td>Kevin Durant</td>\n      <td>908</td>\n      <td>33333</td>\n      <td>24567</td>\n      <td>8388</td>\n      <td>16934</td>\n      <td>49.5</td>\n      <td>1696</td>\n      <td>4421</td>\n      <td>...</td>\n      <td>642</td>\n      <td>5779</td>\n      <td>6421</td>\n      <td>3811</td>\n      <td>989</td>\n      <td>1005</td>\n      <td>2847</td>\n      <td>54.5</td>\n      <td>61.5</td>\n      <td>0</td>\n    </tr>\n    <tr>\n      <th>3</th>\n      <td>4</td>\n      <td>James Harden</td>\n      <td>903</td>\n      <td>31140</td>\n      <td>22587</td>\n      <td>6667</td>\n      <td>15040</td>\n      <td>44.3</td>\n      <td>2509</td>\n      <td>6918</td>\n      <td>...</td>\n      <td>710</td>\n      <td>4290</td>\n      <td>5000</td>\n      <td>5980</td>\n      <td>1403</td>\n      <td>493</td>\n      <td>3385</td>\n      <td>52.7</td>\n      <td>61.1</td>\n      <td>0</td>\n    </tr>\n    <tr>\n      <th>4</th>\n      <td>5</td>\n      <td>Russell Westbrook</td>\n      <td>970</td>\n      <td>33719</td>\n      <td>22384</td>\n      <td>7971</td>\n      <td>18211</td>\n      <td>43.8</td>\n      <td>1099</td>\n      <td>3592</td>\n      <td>...</td>\n      <td>1615</td>\n      <td>5555</td>\n      <td>7170</td>\n      <td>8292</td>\n      <td>1656</td>\n      <td>299</td>\n      <td>4018</td>\n      <td>46.8</td>\n      <td>52.8</td>\n      <td>0</td>\n    </tr>\n    <tr>\n      <th>...</th>\n      <td>...</td>\n      <td>...</td>\n      <td>...</td>\n      <td>...</td>\n      <td>...</td>\n      <td>...</td>\n      <td>...</td>\n      <td>...</td>\n      <td>...</td>\n      <td>...</td>\n      <td>...</td>\n      <td>...</td>\n      <td>...</td>\n      <td>...</td>\n      <td>...</td>\n      <td>...</td>\n      <td>...</td>\n      <td>...</td>\n      <td>...</td>\n      <td>...</td>\n      <td>...</td>\n    </tr>\n    <tr>\n      <th>141</th>\n      <td>142</td>\n      <td>Tyus Jones</td>\n      <td>408</td>\n      <td>7342</td>\n      <td>2359</td>\n      <td>911</td>\n      <td>2108</td>\n      <td>43.2</td>\n      <td>243</td>\n      <td>705</td>\n      <td>...</td>\n      <td>91</td>\n      <td>599</td>\n      <td>690</td>\n      <td>1476</td>\n      <td>401</td>\n      <td>33</td>\n      <td>300</td>\n      <td>49.0</td>\n      <td>52.1</td>\n      <td>0</td>\n    </tr>\n    <tr>\n      <th>317</th>\n      <td>34</td>\n      <td>Kristaps Porzingis</td>\n      <td>304</td>\n      <td>9445</td>\n      <td>5694</td>\n      <td>2057</td>\n      <td>4655</td>\n      <td>44.2</td>\n      <td>552</td>\n      <td>1546</td>\n      <td>...</td>\n      <td>527</td>\n      <td>1849</td>\n      <td>2376</td>\n      <td>455</td>\n      <td>212</td>\n      <td>577</td>\n      <td>499</td>\n      <td>50.1</td>\n      <td>54.6</td>\n      <td>0</td>\n    </tr>\n    <tr>\n      <th>613</th>\n      <td>45</td>\n      <td>Ben Simmons</td>\n      <td>275</td>\n      <td>9326</td>\n      <td>4382</td>\n      <td>1784</td>\n      <td>3188</td>\n      <td>56.0</td>\n      <td>5</td>\n      <td>34</td>\n      <td>...</td>\n      <td>523</td>\n      <td>1694</td>\n      <td>2217</td>\n      <td>2127</td>\n      <td>464</td>\n      <td>199</td>\n      <td>925</td>\n      <td>56.0</td>\n      <td>57.9</td>\n      <td>0</td>\n    </tr>\n    <tr>\n      <th>615</th>\n      <td>47</td>\n      <td>Trae Young</td>\n      <td>230</td>\n      <td>7639</td>\n      <td>5609</td>\n      <td>1796</td>\n      <td>4144</td>\n      <td>43.3</td>\n      <td>568</td>\n      <td>1631</td>\n      <td>...</td>\n      <td>157</td>\n      <td>750</td>\n      <td>907</td>\n      <td>2053</td>\n      <td>215</td>\n      <td>38</td>\n      <td>964</td>\n      <td>50.2</td>\n      <td>57.4</td>\n      <td>0</td>\n    </tr>\n    <tr>\n      <th>616</th>\n      <td>48</td>\n      <td>D'Angelo Russell</td>\n      <td>380</td>\n      <td>11086</td>\n      <td>6727</td>\n      <td>2459</td>\n      <td>5871</td>\n      <td>41.9</td>\n      <td>927</td>\n      <td>2594</td>\n      <td>...</td>\n      <td>204</td>\n      <td>1164</td>\n      <td>1368</td>\n      <td>2045</td>\n      <td>427</td>\n      <td>113</td>\n      <td>1087</td>\n      <td>49.8</td>\n      <td>52.8</td>\n      <td>0</td>\n    </tr>\n  </tbody>\n</table>\n<p>146 rows × 24 columns</p>\n</div>"
     },
     "execution_count": 7,
     "metadata": {},
     "output_type": "execute_result"
    }
   ],
   "source": [
    "df2"
   ]
  },
  {
   "cell_type": "code",
   "execution_count": 8,
   "metadata": {},
   "outputs": [],
   "source": [
    "#Exclude active players because they \n",
    "#can't be in Hall of Fame until retired\n",
    "df = df1[~df1.PLAYER.isin(df2.PLAYER)]"
   ]
  },
  {
   "cell_type": "code",
   "execution_count": 9,
   "metadata": {
    "scrolled": true
   },
   "outputs": [
    {
     "name": "stdout",
     "output_type": "stream",
     "text": [
      "GP        0\n",
      "MIN       0\n",
      "PTS       0\n",
      "REB       0\n",
      "AST       0\n",
      "STL     119\n",
      "BLK     119\n",
      "TOV     187\n",
      "EFG%      0\n",
      "TS%       0\n",
      "HOF       0\n",
      "dtype: int64\n"
     ]
    }
   ],
   "source": [
    "train = df[[\"GP\", \"MIN\", \"PTS\", \"REB\", \"AST\", \"STL\", \"BLK\", \"TOV\", \"EFG%\", \"TS%\", \"HOF\"]]\n",
    "print(train.isna().sum())"
   ]
  },
  {
   "cell_type": "code",
   "execution_count": 10,
   "metadata": {
    "scrolled": false
   },
   "outputs": [
    {
     "name": "stdout",
     "output_type": "stream",
     "text": [
      "GP      0\n",
      "MIN     0\n",
      "PTS     0\n",
      "REB     0\n",
      "AST     0\n",
      "STL     0\n",
      "BLK     0\n",
      "TOV     0\n",
      "EFG%    0\n",
      "TS%     0\n",
      "HOF     0\n",
      "dtype: int64\n"
     ]
    },
    {
     "name": "stderr",
     "output_type": "stream",
     "text": [
      "C:\\Users\\ec778\\AppData\\Local\\Temp/ipykernel_3440/598368201.py:1: SettingWithCopyWarning: \n",
      "A value is trying to be set on a copy of a slice from a DataFrame.\n",
      "Try using .loc[row_indexer,col_indexer] = value instead\n",
      "\n",
      "See the caveats in the documentation: https://pandas.pydata.org/pandas-docs/stable/user_guide/indexing.html#returning-a-view-versus-a-copy\n",
      "  train['STL'] = train['STL'].fillna(train['STL'].median())\n",
      "C:\\Users\\ec778\\AppData\\Local\\Temp/ipykernel_3440/598368201.py:2: SettingWithCopyWarning: \n",
      "A value is trying to be set on a copy of a slice from a DataFrame.\n",
      "Try using .loc[row_indexer,col_indexer] = value instead\n",
      "\n",
      "See the caveats in the documentation: https://pandas.pydata.org/pandas-docs/stable/user_guide/indexing.html#returning-a-view-versus-a-copy\n",
      "  train['BLK'] = train['BLK'].fillna(train['BLK'].median())\n",
      "C:\\Users\\ec778\\AppData\\Local\\Temp/ipykernel_3440/598368201.py:3: SettingWithCopyWarning: \n",
      "A value is trying to be set on a copy of a slice from a DataFrame.\n",
      "Try using .loc[row_indexer,col_indexer] = value instead\n",
      "\n",
      "See the caveats in the documentation: https://pandas.pydata.org/pandas-docs/stable/user_guide/indexing.html#returning-a-view-versus-a-copy\n",
      "  train['TOV'] = train['TOV'].fillna(train['TOV'].median())\n"
     ]
    }
   ],
   "source": [
    "train['STL'] = train['STL'].fillna(train['STL'].median())\n",
    "train['BLK'] = train['BLK'].fillna(train['BLK'].median())\n",
    "train['TOV'] = train['TOV'].fillna(train['TOV'].median())\n",
    "print(train.isna().sum())"
   ]
  },
  {
   "cell_type": "code",
   "execution_count": 11,
   "metadata": {
    "scrolled": true
   },
   "outputs": [
    {
     "data": {
      "text/plain": "       GP    MIN   PTS   REB   AST    STL    BLK    TOV  EFG%   TS%  HOF\n507   735  19642  8208  5582   921    322    931   1544  48.9  52.5  0.0\n1233  449  10544  2527  3193   661    361    248    526  53.8  55.2  0.0\n426   807  21910  9223  6063  1070    522   1581   1847  49.7  54.4  0.0\n1251  414   1352  2388   533   539  483.0  216.0  919.0  27.2  30.9  0.0\n1012  598  12732  4141   817  1962    439     19    657  51.3  54.6  0.0",
      "text/html": "<div>\n<style scoped>\n    .dataframe tbody tr th:only-of-type {\n        vertical-align: middle;\n    }\n\n    .dataframe tbody tr th {\n        vertical-align: top;\n    }\n\n    .dataframe thead th {\n        text-align: right;\n    }\n</style>\n<table border=\"1\" class=\"dataframe\">\n  <thead>\n    <tr style=\"text-align: right;\">\n      <th></th>\n      <th>GP</th>\n      <th>MIN</th>\n      <th>PTS</th>\n      <th>REB</th>\n      <th>AST</th>\n      <th>STL</th>\n      <th>BLK</th>\n      <th>TOV</th>\n      <th>EFG%</th>\n      <th>TS%</th>\n      <th>HOF</th>\n    </tr>\n  </thead>\n  <tbody>\n    <tr>\n      <th>507</th>\n      <td>735</td>\n      <td>19642</td>\n      <td>8208</td>\n      <td>5582</td>\n      <td>921</td>\n      <td>322</td>\n      <td>931</td>\n      <td>1544</td>\n      <td>48.9</td>\n      <td>52.5</td>\n      <td>0.0</td>\n    </tr>\n    <tr>\n      <th>1233</th>\n      <td>449</td>\n      <td>10544</td>\n      <td>2527</td>\n      <td>3193</td>\n      <td>661</td>\n      <td>361</td>\n      <td>248</td>\n      <td>526</td>\n      <td>53.8</td>\n      <td>55.2</td>\n      <td>0.0</td>\n    </tr>\n    <tr>\n      <th>426</th>\n      <td>807</td>\n      <td>21910</td>\n      <td>9223</td>\n      <td>6063</td>\n      <td>1070</td>\n      <td>522</td>\n      <td>1581</td>\n      <td>1847</td>\n      <td>49.7</td>\n      <td>54.4</td>\n      <td>0.0</td>\n    </tr>\n    <tr>\n      <th>1251</th>\n      <td>414</td>\n      <td>1352</td>\n      <td>2388</td>\n      <td>533</td>\n      <td>539</td>\n      <td>483.0</td>\n      <td>216.0</td>\n      <td>919.0</td>\n      <td>27.2</td>\n      <td>30.9</td>\n      <td>0.0</td>\n    </tr>\n    <tr>\n      <th>1012</th>\n      <td>598</td>\n      <td>12732</td>\n      <td>4141</td>\n      <td>817</td>\n      <td>1962</td>\n      <td>439</td>\n      <td>19</td>\n      <td>657</td>\n      <td>51.3</td>\n      <td>54.6</td>\n      <td>0.0</td>\n    </tr>\n  </tbody>\n</table>\n</div>"
     },
     "execution_count": 11,
     "metadata": {},
     "output_type": "execute_result"
    }
   ],
   "source": [
    "training_set = train.sample(frac=0.7, random_state=25)\n",
    "training_set.head()"
   ]
  },
  {
   "cell_type": "code",
   "execution_count": 12,
   "metadata": {
    "scrolled": true
   },
   "outputs": [
    {
     "data": {
      "text/plain": "      GP    MIN    PTS    REB   AST   STL   BLK    TOV  EFG%   TS%  HOF\n0   1560  57446  38387  17440  5660  1160  3189   2527  55.9  59.2  1.0\n3   1346  48643  33643   7047  6306  1944   640   4010  48.2  55.0  1.0\n10  1303  50000  27313  16279  2398   864  1771   1358  45.2  49.1  1.0\n12  1040  43886  26710   7804  9887    77     4  919.0  48.5  56.4  1.0\n16  1270  46471  26395   8007  6114   476   117    204  43.9  49.2  1.0",
      "text/html": "<div>\n<style scoped>\n    .dataframe tbody tr th:only-of-type {\n        vertical-align: middle;\n    }\n\n    .dataframe tbody tr th {\n        vertical-align: top;\n    }\n\n    .dataframe thead th {\n        text-align: right;\n    }\n</style>\n<table border=\"1\" class=\"dataframe\">\n  <thead>\n    <tr style=\"text-align: right;\">\n      <th></th>\n      <th>GP</th>\n      <th>MIN</th>\n      <th>PTS</th>\n      <th>REB</th>\n      <th>AST</th>\n      <th>STL</th>\n      <th>BLK</th>\n      <th>TOV</th>\n      <th>EFG%</th>\n      <th>TS%</th>\n      <th>HOF</th>\n    </tr>\n  </thead>\n  <tbody>\n    <tr>\n      <th>0</th>\n      <td>1560</td>\n      <td>57446</td>\n      <td>38387</td>\n      <td>17440</td>\n      <td>5660</td>\n      <td>1160</td>\n      <td>3189</td>\n      <td>2527</td>\n      <td>55.9</td>\n      <td>59.2</td>\n      <td>1.0</td>\n    </tr>\n    <tr>\n      <th>3</th>\n      <td>1346</td>\n      <td>48643</td>\n      <td>33643</td>\n      <td>7047</td>\n      <td>6306</td>\n      <td>1944</td>\n      <td>640</td>\n      <td>4010</td>\n      <td>48.2</td>\n      <td>55.0</td>\n      <td>1.0</td>\n    </tr>\n    <tr>\n      <th>10</th>\n      <td>1303</td>\n      <td>50000</td>\n      <td>27313</td>\n      <td>16279</td>\n      <td>2398</td>\n      <td>864</td>\n      <td>1771</td>\n      <td>1358</td>\n      <td>45.2</td>\n      <td>49.1</td>\n      <td>1.0</td>\n    </tr>\n    <tr>\n      <th>12</th>\n      <td>1040</td>\n      <td>43886</td>\n      <td>26710</td>\n      <td>7804</td>\n      <td>9887</td>\n      <td>77</td>\n      <td>4</td>\n      <td>919.0</td>\n      <td>48.5</td>\n      <td>56.4</td>\n      <td>1.0</td>\n    </tr>\n    <tr>\n      <th>16</th>\n      <td>1270</td>\n      <td>46471</td>\n      <td>26395</td>\n      <td>8007</td>\n      <td>6114</td>\n      <td>476</td>\n      <td>117</td>\n      <td>204</td>\n      <td>43.9</td>\n      <td>49.2</td>\n      <td>1.0</td>\n    </tr>\n  </tbody>\n</table>\n</div>"
     },
     "execution_count": 12,
     "metadata": {},
     "output_type": "execute_result"
    }
   ],
   "source": [
    "dev_set = train.drop(training_set.index)\n",
    "dev_set.head()"
   ]
  },
  {
   "cell_type": "code",
   "execution_count": 13,
   "metadata": {},
   "outputs": [],
   "source": [
    "train_set_y = training_set[\"HOF\"]\n",
    "train_set_x = training_set.drop(columns = [\"HOF\"])\n",
    "dev_set_y = dev_set[\"HOF\"]\n",
    "dev_set_x = dev_set.drop(columns = [\"HOF\"])"
   ]
  },
  {
   "cell_type": "code",
   "execution_count": 14,
   "metadata": {
    "scrolled": true
   },
   "outputs": [
    {
     "name": "stdout",
     "output_type": "stream",
     "text": [
      "0.9376528117359413\n"
     ]
    },
    {
     "name": "stderr",
     "output_type": "stream",
     "text": [
      "C:\\Users\\ec778\\AppData\\Local\\Programs\\Python\\Python39\\lib\\site-packages\\sklearn\\linear_model\\_logistic.py:763: ConvergenceWarning: lbfgs failed to converge (status=1):\n",
      "STOP: TOTAL NO. of ITERATIONS REACHED LIMIT.\n",
      "\n",
      "Increase the number of iterations (max_iter) or scale the data as shown in:\n",
      "    https://scikit-learn.org/stable/modules/preprocessing.html\n",
      "Please also refer to the documentation for alternative solver options:\n",
      "    https://scikit-learn.org/stable/modules/linear_model.html#logistic-regression\n",
      "  n_iter_i = _check_optimize_result(\n"
     ]
    }
   ],
   "source": [
    "from sklearn.linear_model import LogisticRegression\n",
    "logreg = LogisticRegression()\n",
    "train_X = train_set_x.to_numpy()\n",
    "train_Y = train_set_y.to_numpy()\n",
    "logreg.fit(train_X, train_Y)\n",
    "train_y_pred = logreg.predict(train_X)\n",
    "score = logreg.score(train_X, train_Y)\n",
    "print(score)"
   ]
  },
  {
   "cell_type": "code",
   "execution_count": 15,
   "metadata": {},
   "outputs": [],
   "source": [
    "from sklearn import metrics\n",
    "test_X = dev_set_x.to_numpy()\n",
    "test_Y = dev_set_y.to_numpy()\n",
    "test_y_pred = logreg.predict(test_X)\n",
    "from sklearn import metrics\n",
    "cnf_matrix = metrics.confusion_matrix(test_Y, test_y_pred)"
   ]
  },
  {
   "cell_type": "code",
   "execution_count": 16,
   "metadata": {},
   "outputs": [
    {
     "name": "stdout",
     "output_type": "stream",
     "text": [
      "Accuracy: 0.9285714285714286\n",
      "Precision: 0.71875\n",
      "Recall: 0.5897435897435898\n"
     ]
    }
   ],
   "source": [
    "print(\"Accuracy:\",metrics.accuracy_score(test_Y, test_y_pred))\n",
    "print(\"Precision:\",metrics.precision_score(test_Y, test_y_pred))\n",
    "print(\"Recall:\",metrics.recall_score(test_Y, test_y_pred))"
   ]
  },
  {
   "cell_type": "code",
   "execution_count": 17,
   "metadata": {},
   "outputs": [
    {
     "data": {
      "text/plain": "<Figure size 432x288 with 2 Axes>",
      "image/png": "[encoded data removed]"
     },
     "metadata": {
      "needs_background": "light"
     },
     "output_type": "display_data"
    }
   ],
   "source": [
    "import matplotlib.pyplot as plt\n",
    "import seaborn as sns\n",
    "%matplotlib inline\n",
    "\n",
    "class_names=[0,1] # name  of classes\n",
    "fig, ax = plt.subplots()\n",
    "tick_marks = np.arange(len(class_names))\n",
    "plt.xticks(tick_marks, class_names)\n",
    "plt.yticks(tick_marks, class_names)\n",
    "# create heatmap\n",
    "sns.heatmap(pd.DataFrame(cnf_matrix), annot=True, cmap=\"YlGnBu\" ,fmt='g')\n",
    "ax.xaxis.set_label_position(\"top\")\n",
    "plt.tight_layout()\n",
    "plt.title('Confusion matrix', y=1.1)\n",
    "plt.ylabel('Actual label')\n",
    "plt.xlabel('Predicted label')\n",
    "plt.savefig('Logreg.png')"
   ]
  },
  {
   "cell_type": "markdown",
   "source": [
    "## Predict whether active players will be in HOF"
   ],
   "metadata": {
    "collapsed": false
   }
  },
  {
   "cell_type": "code",
   "execution_count": 18,
   "outputs": [],
   "source": [
    "active = df2[[\"GP\", \"MIN\", \"PTS\", \"REB\", \"AST\", \"STL\", \"BLK\", \"TOV\", \"EFG%\", \"TS%\"]]"
   ],
   "metadata": {
    "collapsed": false,
    "pycharm": {
     "name": "#%%\n"
    }
   }
  },
  {
   "cell_type": "code",
   "execution_count": 19,
   "outputs": [
    {
     "name": "stdout",
     "output_type": "stream",
     "text": [
      "GP      0\n",
      "MIN     0\n",
      "PTS     0\n",
      "REB     0\n",
      "AST     0\n",
      "STL     0\n",
      "BLK     0\n",
      "TOV     0\n",
      "EFG%    0\n",
      "TS%     0\n",
      "dtype: int64\n"
     ]
    }
   ],
   "source": [
    "print(active.isna().sum())"
   ],
   "metadata": {
    "collapsed": false,
    "pycharm": {
     "name": "#%%\n"
    }
   }
  },
  {
   "cell_type": "code",
   "execution_count": 20,
   "metadata": {},
   "outputs": [],
   "source": [
    "active_pred = logreg.predict(active)"
   ]
  },
  {
   "cell_type": "code",
   "execution_count": 21,
   "outputs": [
    {
     "name": "stdout",
     "output_type": "stream",
     "text": [
      "[('LeBron James', 1.0), ('Carmelo Anthony', 1.0), ('Kevin Durant', 1.0), ('James Harden', 1.0), ('Russell Westbrook', 1.0), ('Chris Paul', 1.0), ('LaMarcus Aldridge', 1.0), ('Dwight Howard', 1.0), ('Stephen Curry', 1.0), ('DeMar DeRozan', 0.0), ('Damian Lillard', 1.0), ('Rudy Gay', 0.0), ('Lou Williams', 0.0), ('Paul George', 0.0), ('Kyle Lowry', 0.0), ('Paul Millsap', 0.0), ('Kemba Walker', 0.0), ('Brook Lopez', 0.0), ('Blake Griffin', 1.0), ('Anthony Davis', 1.0), ('Andre Iguodala', 0.0), ('Bradley Beal', 0.0), ('Thaddeus Young', 0.0), ('Mike Conley', 0.0), ('Kevin Love', 1.0), ('Kyrie Irving', 1.0), ('Giannis Antetokounmpo', 1.0), ('Jeff Green', 0.0), ('Jrue Holiday', 0.0), ('Al Horford', 0.0), ('DeMarcus Cousins', 1.0), ('Derrick Rose', 0.0), ('Goran Dragic', 0.0), ('Klay Thompson', 0.0), ('Eric Gordon', 0.0), ('John Wall', 1.0), ('Nikola Vucevic', 1.0), ('Trevor Ariza', 0.0), ('Jimmy Butler', 0.0), ('Tobias Harris', 0.0), ('Gordon Hayward', 0.0), ('Kawhi Leonard', 0.0), ('Danilo Gallinari', 0.0), ('Andrew Wiggins', 0.0), ('Wesley Matthews', 0.0), ('Serge Ibaka', 0.0), ('CJ McCollum', 0.0), ('Khris Middleton', 0.0), ('Eric Bledsoe', 0.0), ('Karl-Anthony Towns', 1.0), ('Devin Booker', 0.0), ('Nicolas Batum', 0.0), ('Harrison Barnes', 0.0), ('Andre Drummond', 1.0), ('Rajon Rondo', 0.0), ('George Hill', 0.0), ('D.J. Augustin', 0.0), ('Nikola Jokic', 1.0), ('DeAndre Jordan', 0.0), ('Jonas Valanciunas', 0.0), ('Zach LaVine', 0.0), ('Evan Fournier', 0.0), ('Dennis Schroder', 0.0), ('Reggie Jackson', 0.0), ('Jordan Clarkson', 0.0), ('Enes Freedom', 0.0), ('Derrick Favors', 0.0), ('Julius Randle', 0.0), ('Marcus Morris Sr.', 0.0), ('Bojan Bogdanovic', 0.0), ('Robin Lopez', 0.0), ('Victor Oladipo', 0.0), ('Tim Hardaway Jr.', 0.0), ('Taj Gibson', 0.0), ('Markieff Morris', 0.0), ('Ricky Rubio', 0.0), ('Kentavious Caldwell-Pope', 0.0), ('Terrence Ross', 0.0), ('Avery Bradley', 0.0), ('Rudy Gobert', 0.0), ('Patty Mills', 0.0), ('Danny Green', 0.0), ('Jae Crowder', 0.0), ('Buddy Hield', 0.0), ('Will Barton', 0.0), ('Udonis Haslem', 0.0), ('Tristan Thompson', 0.0), ('JaVale McGee', 0.0), ('Aaron Gordon', 0.0), ('Hassan Whiteside', 0.0), ('Wayne Ellington', 0.0), ('Alec Burks', 0.0), ('Jerami Grant', 0.0), ('Kelly Olynyk', 0.0), ('Steven Adams', 0.0), ('Draymond Green', 0.0), ('Robert Covington', 0.0), ('Jeremy Lamb', 0.0), ('James Johnson', 0.0), ('Austin Rivers', 0.0), ('Kent Bazemore', 0.0), ('Montrezl Harrell', 0.0), ('Clint Capela', 0.0), ('Myles Turner', 0.0), ('P.J. Tucker', 0.0), ('Mason Plumlee', 0.0), ('Ish Smith', 0.0), ('Kelly Oubre Jr.', 0.0), ('Gary Harris', 0.0), ('Otto Porter Jr.', 0.0), ('Joe Ingles', 0.0), ('Terry Rozier', 0.0), ('Elfrid Payton', 0.0), ('Marcus Smart', 0.0), ('Cory Joseph', 0.0), (\"E'Twaun Moore\", 0.0), ('Trey Burke', 0.0), ('Joe Harris', 0.0), ('Rodney Hood', 0.0), ('Justin Holiday', 0.0), ('Doug McDermott', 0.0), ('Ben McLemore', 0.0), ('Gorgui Dieng', 0.0), ('Bobby Portis', 0.0), ('Ed Davis', 0.0), ('Patrick Beverley', 0.0), ('Alex Len', 0.0), ('Garrett Temple', 0.0), ('Cody Zeller', 0.0), ('Maurice Harkless', 0.0), ('Willie Cauley-Stein', 0.0), ('JaMychal Green', 0.0), ('Tony Snell', 0.0), ('Dwight Powell', 0.0), ('T.J. McConnell', 0.0), ('Nerlens Noel', 0.0), ('Nemanja Bjelica', 0.0), ('Kyle Anderson', 0.0), ('Dewayne Dedmon', 0.0), ('Mike Muscala', 0.0), ('Solomon Hill', 0.0), ('Tyus Jones', 0.0), ('Kristaps Porzingis', 0.0), ('Ben Simmons', 0.0), ('Trae Young', 0.0), (\"D'Angelo Russell\", 0.0)]\n"
     ]
    }
   ],
   "source": [
    "print(list(zip(df2['PLAYER'], active_pred)))"
   ],
   "metadata": {
    "collapsed": false,
    "pycharm": {
     "name": "#%%\n"
    }
   }
  },
  {
   "cell_type": "code",
   "execution_count": 21,
   "outputs": [],
   "source": [],
   "metadata": {
    "collapsed": false,
    "pycharm": {
     "name": "#%%\n"
    }
   }
  }
 ],
 "metadata": {
  "kernelspec": {
   "display_name": "Python 3",
   "language": "python",
   "name": "python3"
  },
  "language_info": {
   "codemirror_mode": {
    "name": "ipython",
    "version": 3
   },
   "file_extension": ".py",
   "mimetype": "text/x-python",
   "name": "python",
   "nbconvert_exporter": "python",
   "pygments_lexer": "ipython3",
   "version": "3.7.3"
  }
 },
 "nbformat": 4,
 "nbformat_minor": 2
}