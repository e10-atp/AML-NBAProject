{
 "cells": [
  {
   "cell_type": "code",
   "execution_count": 1,
   "metadata": {},
   "outputs": [],
   "source": [
    "import pandas as pd\n",
    "import numpy as np\n",
    "\n",
    "#df1 includes both active and inactive players\n",
    "df1 = pd.read_csv('NBA_AllTimeLeader.csv')\n",
    "#df2 includes only active players\n",
    "df2 = pd.read_csv('NBA_AllTimeLeader_Active.csv')\n",
    "hof = []\n",
    "with open('HOF.csv', 'r') as f:\n",
    "    for line in f:\n",
    "        hof.append(line.strip())"
   ]
  },
  {
   "cell_type": "code",
   "execution_count": 2,
   "outputs": [
    {
     "data": {
      "text/plain": "['Kareem Abdul-Jabbar',\n 'Ray Allen',\n 'Nate Archibald',\n 'Paul Arizin',\n 'Al Attles',\n 'Charles Barkley',\n 'Don Barksdale',\n 'Rick Barry',\n 'Elgin Baylor',\n 'Zelmo Beaty',\n 'Walt Bellamy',\n 'Dave Bing',\n 'Larry Bird',\n 'Chris Bosh',\n 'Bill Bradley',\n 'Carl Braun',\n 'Kobe Bryant',\n 'Al Cervi',\n 'Wilt Chamberlain',\n 'Maurice Cheeks',\n 'Nat Clifton',\n 'Chuck Cooper',\n 'Bob Cousy',\n 'Dave Cowens',\n 'Billy Cunningham',\n 'Louie Dampier',\n 'Bob Dandridge',\n 'Mel Daniels',\n 'Adrian Dantley',\n 'Bob Davies',\n 'Dave DeBusschere',\n 'Vlade Divac',\n 'Clyde Drexler',\n 'Joe Dumars',\n 'Tim Duncan',\n 'Alex English',\n 'Julius Erving',\n 'Patrick Ewing',\n 'Walt Frazier',\n 'Joe Fulks',\n 'Harry Gallatin',\n 'Kevin Garnett',\n 'George Gervin',\n 'Artis Gilmore',\n 'Tom Gola',\n 'Gail Goodrich',\n 'Hal Greer',\n 'Richie Guerin',\n 'Cliff Hagan',\n 'John Havlicek',\n 'Connie Hawkins',\n 'Elvin Hayes',\n 'Spencer Haywood',\n 'Tom Heinsohn',\n 'Grant Hill',\n 'Bob Houbregs',\n 'Bailey Howell',\n 'Dan Issel',\n 'Allen Iverson',\n 'Buddy Jeannette',\n 'Dennis Johnson',\n 'Gus Johnson',\n 'Magic Johnson',\n 'Neil Johnston',\n 'Bobby Jones',\n 'K.C. Jones',\n 'Sam Jones',\n 'Michael Jordan',\n 'Jason Kidd',\n 'Bernard King',\n 'Toni Kukoc',\n 'Bob Lanier',\n 'Clyde Lovellette',\n 'Jerry Lucas',\n 'Ed Macauley',\n 'Karl Malone',\n 'Moses Malone',\n 'Pete Maravich',\n 'Sarunas Marciulionis',\n 'Slater Martin',\n 'Bob McAdoo',\n 'George McGinnis',\n 'Tracy McGrady',\n 'Dick McGuire',\n 'Kevin McHale',\n 'George Mikan',\n 'Vern Mikkelsen',\n 'Reggie Miller',\n 'Yao Ming',\n 'Sidney Moncrief',\n 'Earl Monroe',\n 'Alonzo Mourning',\n 'Chris Mullin',\n 'Calvin Murphy',\n 'Dikembe Mutombo',\n 'Steve Nash',\n 'Hakeem Olajuwon',\n \"Shaquille O'Neal\",\n 'Robert Parish',\n 'Gary Payton',\n 'Drazen Petrovic',\n 'Bob Pettit',\n 'Andy Phillip',\n 'Paul Pierce',\n 'Scottie Pippen',\n 'Jim Pollard',\n 'Dino Radja',\n 'Frank Ramsey',\n 'Willis Reed',\n 'Mitch Richmond',\n 'Arnie Risen',\n 'Oscar Robertson',\n 'David Robinson',\n 'Guy Rodgers',\n 'Dennis Rodman',\n 'Bill Russell',\n 'Arvydas Sabonis',\n 'Ralph Sampson',\n 'Dolph Schayes',\n 'Bill Sharman',\n 'Jack Sikma',\n 'John Stockton',\n 'Maurice Stokes',\n 'Isiah Thomas',\n 'David Thompson',\n 'Nate Thurmond',\n 'Jack Twyman',\n 'Wes Unseld',\n 'Chet Walker',\n 'Ben Wallace',\n 'Bill Walton',\n 'Bobby Wanzer',\n 'Chris Webber',\n 'Jerry West',\n 'Paul Westphal',\n 'Jo Jo White',\n 'Lenny Wilkens',\n 'Jamaal Wilkes',\n 'Dominique Wilkins',\n 'James Worthy',\n 'George Yardley']"
     },
     "execution_count": 2,
     "metadata": {},
     "output_type": "execute_result"
    }
   ],
   "source": [
    "hof"
   ],
   "metadata": {
    "collapsed": false,
    "pycharm": {
     "name": "#%%\n"
    }
   }
  },
  {
   "cell_type": "code",
   "execution_count": 3,
   "outputs": [],
   "source": [
    "#drop duplicates from merging pts, ast, steal, reb, blk all-times\n",
    "df1 = df1.drop_duplicates(subset='PLAYER')\n",
    "df2 = df2.drop_duplicates(subset='PLAYER')"
   ],
   "metadata": {
    "collapsed": false,
    "pycharm": {
     "name": "#%%\n"
    }
   }
  },
  {
   "cell_type": "code",
   "execution_count": 4,
   "outputs": [],
   "source": [
    "df1['HOF'] = [1.0 if player in hof else 0.0 for player in df1['PLAYER']]"
   ],
   "metadata": {
    "collapsed": false,
    "pycharm": {
     "name": "#%%\n"
    }
   }
  },
  {
   "cell_type": "code",
   "execution_count": 5,
   "outputs": [],
   "source": [
    "df1['GP'] = pd.to_numeric(df1['GP'].str.replace(',',''))\n",
    "df2['GP'] = pd.to_numeric(df2['GP'].str.replace(',',''))"
   ],
   "metadata": {
    "collapsed": false,
    "pycharm": {
     "name": "#%%\n"
    }
   }
  },
  {
   "cell_type": "code",
   "execution_count": 6,
   "metadata": {},
   "outputs": [
    {
     "data": {
      "text/plain": "         #              PLAYER    GP     MIN     PTS     FGM     FGA   FG%  \\\n0        1      Michael Jordan  1072    38.3    30.1    11.4    22.9  49.7   \n1        2    Wilt Chamberlain  1045    45.8    30.1    12.1    22.5  54.0   \n2        3        Elgin Baylor   846    40.0    27.4    10.3    23.8  43.1   \n3        4        Kevin Durant   897    36.7    27.1     9.2    18.6  49.6   \n4        5          Jerry West   932    39.2    27.0     9.7    20.4  47.4   \n...    ...                 ...   ...     ...     ...     ...     ...   ...   \n2538  1232        Mike Muscala   407  6366.0  2473.0   892.0  1949.0  45.8   \n5469   227  Kristaps Porzingis   304  9445.0  5694.0  2057.0  4655.0  44.2   \n5472   231          Keon Clark   353  7973.0  2882.0  1179.0  2359.0  50.0   \n5484   242       Jawann Oldham   329  5241.0  1455.0   608.0  1269.0  47.9   \n5504   263       Eddie Griffin   303  6729.0  2171.0   854.0  2263.0  37.7   \n\n      3PM   3PA  ... OREB  DREB     REB    AST  STL  BLK  TOV  EFG%   TS%  HOF  \n0     0.5   1.7  ...  1.6   4.7     6.2    5.3  2.3  0.8  2.7  50.9  56.9  1.0  \n1     NaN   NaN  ...  NaN   NaN    22.9    4.4  NaN  NaN  NaN  54.0  54.7  1.0  \n2     NaN   NaN  ...  NaN   NaN    13.5    4.3  NaN  NaN  NaN  43.1  49.4  1.0  \n3     1.9   4.9  ...  0.7   6.4     7.1    4.2  1.1  1.1  3.1  54.6  61.6  0.0  \n4     NaN   NaN  ...    1   2.8     5.8    6.7  2.6  0.7  NaN  47.4  55.0  1.0  \n...   ...   ...  ...  ...   ...     ...    ...  ...  ...  ...   ...   ...  ...  \n2538  371   997  ...  338   961  1299.0  366.0  139  195  250  55.3  58.5  0.0  \n5469  552  1546  ...  527  1849  2376.0  455.0  212  577  499  50.1  54.6  0.0  \n5472    1    19  ...  655  1441  2096.0  322.0  184  571  470  50.0  53.1  0.0  \n5484    0     3  ...  431   922  1353.0  162.0   97  546  362  47.9  50.4  0.0  \n5504  237   752  ...  497  1247  1744.0  236.0  105  518  227  43.0  45.0  0.0  \n\n[1324 rows x 24 columns]",
      "text/html": "<div>\n<style scoped>\n    .dataframe tbody tr th:only-of-type {\n        vertical-align: middle;\n    }\n\n    .dataframe tbody tr th {\n        vertical-align: top;\n    }\n\n    .dataframe thead th {\n        text-align: right;\n    }\n</style>\n<table border=\"1\" class=\"dataframe\">\n  <thead>\n    <tr style=\"text-align: right;\">\n      <th></th>\n      <th>#</th>\n      <th>PLAYER</th>\n      <th>GP</th>\n      <th>MIN</th>\n      <th>PTS</th>\n      <th>FGM</th>\n      <th>FGA</th>\n      <th>FG%</th>\n      <th>3PM</th>\n      <th>3PA</th>\n      <th>...</th>\n      <th>OREB</th>\n      <th>DREB</th>\n      <th>REB</th>\n      <th>AST</th>\n      <th>STL</th>\n      <th>BLK</th>\n      <th>TOV</th>\n      <th>EFG%</th>\n      <th>TS%</th>\n      <th>HOF</th>\n    </tr>\n  </thead>\n  <tbody>\n    <tr>\n      <th>0</th>\n      <td>1</td>\n      <td>Michael Jordan</td>\n      <td>1072</td>\n      <td>38.3</td>\n      <td>30.1</td>\n      <td>11.4</td>\n      <td>22.9</td>\n      <td>49.7</td>\n      <td>0.5</td>\n      <td>1.7</td>\n      <td>...</td>\n      <td>1.6</td>\n      <td>4.7</td>\n      <td>6.2</td>\n      <td>5.3</td>\n      <td>2.3</td>\n      <td>0.8</td>\n      <td>2.7</td>\n      <td>50.9</td>\n      <td>56.9</td>\n      <td>1.0</td>\n    </tr>\n    <tr>\n      <th>1</th>\n      <td>2</td>\n      <td>Wilt Chamberlain</td>\n      <td>1045</td>\n      <td>45.8</td>\n      <td>30.1</td>\n      <td>12.1</td>\n      <td>22.5</td>\n      <td>54.0</td>\n      <td>NaN</td>\n      <td>NaN</td>\n      <td>...</td>\n      <td>NaN</td>\n      <td>NaN</td>\n      <td>22.9</td>\n      <td>4.4</td>\n      <td>NaN</td>\n      <td>NaN</td>\n      <td>NaN</td>\n      <td>54.0</td>\n      <td>54.7</td>\n      <td>1.0</td>\n    </tr>\n    <tr>\n      <th>2</th>\n      <td>3</td>\n      <td>Elgin Baylor</td>\n      <td>846</td>\n      <td>40.0</td>\n      <td>27.4</td>\n      <td>10.3</td>\n      <td>23.8</td>\n      <td>43.1</td>\n      <td>NaN</td>\n      <td>NaN</td>\n      <td>...</td>\n      <td>NaN</td>\n      <td>NaN</td>\n      <td>13.5</td>\n      <td>4.3</td>\n      <td>NaN</td>\n      <td>NaN</td>\n      <td>NaN</td>\n      <td>43.1</td>\n      <td>49.4</td>\n      <td>1.0</td>\n    </tr>\n    <tr>\n      <th>3</th>\n      <td>4</td>\n      <td>Kevin Durant</td>\n      <td>897</td>\n      <td>36.7</td>\n      <td>27.1</td>\n      <td>9.2</td>\n      <td>18.6</td>\n      <td>49.6</td>\n      <td>1.9</td>\n      <td>4.9</td>\n      <td>...</td>\n      <td>0.7</td>\n      <td>6.4</td>\n      <td>7.1</td>\n      <td>4.2</td>\n      <td>1.1</td>\n      <td>1.1</td>\n      <td>3.1</td>\n      <td>54.6</td>\n      <td>61.6</td>\n      <td>0.0</td>\n    </tr>\n    <tr>\n      <th>4</th>\n      <td>5</td>\n      <td>Jerry West</td>\n      <td>932</td>\n      <td>39.2</td>\n      <td>27.0</td>\n      <td>9.7</td>\n      <td>20.4</td>\n      <td>47.4</td>\n      <td>NaN</td>\n      <td>NaN</td>\n      <td>...</td>\n      <td>1</td>\n      <td>2.8</td>\n      <td>5.8</td>\n      <td>6.7</td>\n      <td>2.6</td>\n      <td>0.7</td>\n      <td>NaN</td>\n      <td>47.4</td>\n      <td>55.0</td>\n      <td>1.0</td>\n    </tr>\n    <tr>\n      <th>...</th>\n      <td>...</td>\n      <td>...</td>\n      <td>...</td>\n      <td>...</td>\n      <td>...</td>\n      <td>...</td>\n      <td>...</td>\n      <td>...</td>\n      <td>...</td>\n      <td>...</td>\n      <td>...</td>\n      <td>...</td>\n      <td>...</td>\n      <td>...</td>\n      <td>...</td>\n      <td>...</td>\n      <td>...</td>\n      <td>...</td>\n      <td>...</td>\n      <td>...</td>\n      <td>...</td>\n    </tr>\n    <tr>\n      <th>2538</th>\n      <td>1232</td>\n      <td>Mike Muscala</td>\n      <td>407</td>\n      <td>6366.0</td>\n      <td>2473.0</td>\n      <td>892.0</td>\n      <td>1949.0</td>\n      <td>45.8</td>\n      <td>371</td>\n      <td>997</td>\n      <td>...</td>\n      <td>338</td>\n      <td>961</td>\n      <td>1299.0</td>\n      <td>366.0</td>\n      <td>139</td>\n      <td>195</td>\n      <td>250</td>\n      <td>55.3</td>\n      <td>58.5</td>\n      <td>0.0</td>\n    </tr>\n    <tr>\n      <th>5469</th>\n      <td>227</td>\n      <td>Kristaps Porzingis</td>\n      <td>304</td>\n      <td>9445.0</td>\n      <td>5694.0</td>\n      <td>2057.0</td>\n      <td>4655.0</td>\n      <td>44.2</td>\n      <td>552</td>\n      <td>1546</td>\n      <td>...</td>\n      <td>527</td>\n      <td>1849</td>\n      <td>2376.0</td>\n      <td>455.0</td>\n      <td>212</td>\n      <td>577</td>\n      <td>499</td>\n      <td>50.1</td>\n      <td>54.6</td>\n      <td>0.0</td>\n    </tr>\n    <tr>\n      <th>5472</th>\n      <td>231</td>\n      <td>Keon Clark</td>\n      <td>353</td>\n      <td>7973.0</td>\n      <td>2882.0</td>\n      <td>1179.0</td>\n      <td>2359.0</td>\n      <td>50.0</td>\n      <td>1</td>\n      <td>19</td>\n      <td>...</td>\n      <td>655</td>\n      <td>1441</td>\n      <td>2096.0</td>\n      <td>322.0</td>\n      <td>184</td>\n      <td>571</td>\n      <td>470</td>\n      <td>50.0</td>\n      <td>53.1</td>\n      <td>0.0</td>\n    </tr>\n    <tr>\n      <th>5484</th>\n      <td>242</td>\n      <td>Jawann Oldham</td>\n      <td>329</td>\n      <td>5241.0</td>\n      <td>1455.0</td>\n      <td>608.0</td>\n      <td>1269.0</td>\n      <td>47.9</td>\n      <td>0</td>\n      <td>3</td>\n      <td>...</td>\n      <td>431</td>\n      <td>922</td>\n      <td>1353.0</td>\n      <td>162.0</td>\n      <td>97</td>\n      <td>546</td>\n      <td>362</td>\n      <td>47.9</td>\n      <td>50.4</td>\n      <td>0.0</td>\n    </tr>\n    <tr>\n      <th>5504</th>\n      <td>263</td>\n      <td>Eddie Griffin</td>\n      <td>303</td>\n      <td>6729.0</td>\n      <td>2171.0</td>\n      <td>854.0</td>\n      <td>2263.0</td>\n      <td>37.7</td>\n      <td>237</td>\n      <td>752</td>\n      <td>...</td>\n      <td>497</td>\n      <td>1247</td>\n      <td>1744.0</td>\n      <td>236.0</td>\n      <td>105</td>\n      <td>518</td>\n      <td>227</td>\n      <td>43.0</td>\n      <td>45.0</td>\n      <td>0.0</td>\n    </tr>\n  </tbody>\n</table>\n<p>1324 rows × 24 columns</p>\n</div>"
     },
     "execution_count": 6,
     "metadata": {},
     "output_type": "execute_result"
    }
   ],
   "source": [
    "df1"
   ]
  },
  {
   "cell_type": "code",
   "execution_count": 7,
   "metadata": {},
   "outputs": [
    {
     "data": {
      "text/plain": "       #              PLAYER    GP      MIN     PTS     FGM     FGA   FG%  \\\n0      1        Kevin Durant   897     36.7    27.1     9.2    18.6  49.6   \n1      2        LeBron James  1316     38.2    27.0     9.8    19.5  50.4   \n2      3        James Harden   890     34.4    25.1     7.4    16.7  44.4   \n3      4      Damian Lillard   695     36.3    24.6     8.1    18.4  43.8   \n4      5       Stephen Curry   774     34.3    24.3     8.3    17.5  47.6   \n..   ...                 ...   ...      ...     ...     ...     ...   ...   \n275  141        Mike Muscala   408   6370.0  2475.0   893.0  1952.0  45.7   \n310   34  Kristaps Porzingis   304   9445.0  5694.0  2057.0  4655.0  44.2   \n606   45         Ben Simmons   275   9326.0  4382.0  1784.0  3188.0  56.0   \n608   47          Trae Young   230   7639.0  5609.0  1796.0  4144.0  43.3   \n609   48    D'Angelo Russell   380  11086.0  6727.0  2459.0  5871.0  41.9   \n\n       3PM     3PA  ...   OREB    DREB     REB     AST    STL    BLK     TOV  \\\n0      1.9     4.9  ...    0.7     6.4     7.1     4.2    1.1    1.1     3.1   \n1      1.5     4.4  ...    1.2     6.3     7.4     7.4    1.6    0.8     3.5   \n2      2.8     7.7  ...    0.8     4.7     5.5     6.6    1.6    0.5     3.7   \n3      3.0     8.0  ...    0.6     3.6     4.2     6.6    1.0    0.3     2.8   \n4      3.7     8.7  ...    0.7     3.9     4.6     6.5    1.7    0.2     3.1   \n..     ...     ...  ...    ...     ...     ...     ...    ...    ...     ...   \n275  371.0   997.0  ...  340.0   963.0  1303.0   366.0  139.0  195.0   252.0   \n310  552.0  1546.0  ...  527.0  1849.0  2376.0   455.0  212.0  577.0   499.0   \n606    5.0    34.0  ...  523.0  1694.0  2217.0  2127.0  464.0  199.0   925.0   \n608  568.0  1631.0  ...  157.0   750.0   907.0  2053.0  215.0   38.0   964.0   \n609  927.0  2594.0  ...  204.0  1164.0  1368.0  2045.0  427.0  113.0  1087.0   \n\n     EFG%   TS%  HOF  \n0    54.6  61.6    0  \n1    54.3  58.6    0  \n2    52.8  61.1    0  \n3    51.9  58.2    0  \n4    58.3  62.7    0  \n..    ...   ...  ...  \n275  55.3  58.4    0  \n310  50.1  54.6    0  \n606  56.0  57.9    0  \n608  50.2  57.4    0  \n609  49.8  52.8    0  \n\n[150 rows x 24 columns]",
      "text/html": "<div>\n<style scoped>\n    .dataframe tbody tr th:only-of-type {\n        vertical-align: middle;\n    }\n\n    .dataframe tbody tr th {\n        vertical-align: top;\n    }\n\n    .dataframe thead th {\n        text-align: right;\n    }\n</style>\n<table border=\"1\" class=\"dataframe\">\n  <thead>\n    <tr style=\"text-align: right;\">\n      <th></th>\n      <th>#</th>\n      <th>PLAYER</th>\n      <th>GP</th>\n      <th>MIN</th>\n      <th>PTS</th>\n      <th>FGM</th>\n      <th>FGA</th>\n      <th>FG%</th>\n      <th>3PM</th>\n      <th>3PA</th>\n      <th>...</th>\n      <th>OREB</th>\n      <th>DREB</th>\n      <th>REB</th>\n      <th>AST</th>\n      <th>STL</th>\n      <th>BLK</th>\n      <th>TOV</th>\n      <th>EFG%</th>\n      <th>TS%</th>\n      <th>HOF</th>\n    </tr>\n  </thead>\n  <tbody>\n    <tr>\n      <th>0</th>\n      <td>1</td>\n      <td>Kevin Durant</td>\n      <td>897</td>\n      <td>36.7</td>\n      <td>27.1</td>\n      <td>9.2</td>\n      <td>18.6</td>\n      <td>49.6</td>\n      <td>1.9</td>\n      <td>4.9</td>\n      <td>...</td>\n      <td>0.7</td>\n      <td>6.4</td>\n      <td>7.1</td>\n      <td>4.2</td>\n      <td>1.1</td>\n      <td>1.1</td>\n      <td>3.1</td>\n      <td>54.6</td>\n      <td>61.6</td>\n      <td>0</td>\n    </tr>\n    <tr>\n      <th>1</th>\n      <td>2</td>\n      <td>LeBron James</td>\n      <td>1316</td>\n      <td>38.2</td>\n      <td>27.0</td>\n      <td>9.8</td>\n      <td>19.5</td>\n      <td>50.4</td>\n      <td>1.5</td>\n      <td>4.4</td>\n      <td>...</td>\n      <td>1.2</td>\n      <td>6.3</td>\n      <td>7.4</td>\n      <td>7.4</td>\n      <td>1.6</td>\n      <td>0.8</td>\n      <td>3.5</td>\n      <td>54.3</td>\n      <td>58.6</td>\n      <td>0</td>\n    </tr>\n    <tr>\n      <th>2</th>\n      <td>3</td>\n      <td>James Harden</td>\n      <td>890</td>\n      <td>34.4</td>\n      <td>25.1</td>\n      <td>7.4</td>\n      <td>16.7</td>\n      <td>44.4</td>\n      <td>2.8</td>\n      <td>7.7</td>\n      <td>...</td>\n      <td>0.8</td>\n      <td>4.7</td>\n      <td>5.5</td>\n      <td>6.6</td>\n      <td>1.6</td>\n      <td>0.5</td>\n      <td>3.7</td>\n      <td>52.8</td>\n      <td>61.1</td>\n      <td>0</td>\n    </tr>\n    <tr>\n      <th>3</th>\n      <td>4</td>\n      <td>Damian Lillard</td>\n      <td>695</td>\n      <td>36.3</td>\n      <td>24.6</td>\n      <td>8.1</td>\n      <td>18.4</td>\n      <td>43.8</td>\n      <td>3.0</td>\n      <td>8.0</td>\n      <td>...</td>\n      <td>0.6</td>\n      <td>3.6</td>\n      <td>4.2</td>\n      <td>6.6</td>\n      <td>1.0</td>\n      <td>0.3</td>\n      <td>2.8</td>\n      <td>51.9</td>\n      <td>58.2</td>\n      <td>0</td>\n    </tr>\n    <tr>\n      <th>4</th>\n      <td>5</td>\n      <td>Stephen Curry</td>\n      <td>774</td>\n      <td>34.3</td>\n      <td>24.3</td>\n      <td>8.3</td>\n      <td>17.5</td>\n      <td>47.6</td>\n      <td>3.7</td>\n      <td>8.7</td>\n      <td>...</td>\n      <td>0.7</td>\n      <td>3.9</td>\n      <td>4.6</td>\n      <td>6.5</td>\n      <td>1.7</td>\n      <td>0.2</td>\n      <td>3.1</td>\n      <td>58.3</td>\n      <td>62.7</td>\n      <td>0</td>\n    </tr>\n    <tr>\n      <th>...</th>\n      <td>...</td>\n      <td>...</td>\n      <td>...</td>\n      <td>...</td>\n      <td>...</td>\n      <td>...</td>\n      <td>...</td>\n      <td>...</td>\n      <td>...</td>\n      <td>...</td>\n      <td>...</td>\n      <td>...</td>\n      <td>...</td>\n      <td>...</td>\n      <td>...</td>\n      <td>...</td>\n      <td>...</td>\n      <td>...</td>\n      <td>...</td>\n      <td>...</td>\n      <td>...</td>\n    </tr>\n    <tr>\n      <th>275</th>\n      <td>141</td>\n      <td>Mike Muscala</td>\n      <td>408</td>\n      <td>6370.0</td>\n      <td>2475.0</td>\n      <td>893.0</td>\n      <td>1952.0</td>\n      <td>45.7</td>\n      <td>371.0</td>\n      <td>997.0</td>\n      <td>...</td>\n      <td>340.0</td>\n      <td>963.0</td>\n      <td>1303.0</td>\n      <td>366.0</td>\n      <td>139.0</td>\n      <td>195.0</td>\n      <td>252.0</td>\n      <td>55.3</td>\n      <td>58.4</td>\n      <td>0</td>\n    </tr>\n    <tr>\n      <th>310</th>\n      <td>34</td>\n      <td>Kristaps Porzingis</td>\n      <td>304</td>\n      <td>9445.0</td>\n      <td>5694.0</td>\n      <td>2057.0</td>\n      <td>4655.0</td>\n      <td>44.2</td>\n      <td>552.0</td>\n      <td>1546.0</td>\n      <td>...</td>\n      <td>527.0</td>\n      <td>1849.0</td>\n      <td>2376.0</td>\n      <td>455.0</td>\n      <td>212.0</td>\n      <td>577.0</td>\n      <td>499.0</td>\n      <td>50.1</td>\n      <td>54.6</td>\n      <td>0</td>\n    </tr>\n    <tr>\n      <th>606</th>\n      <td>45</td>\n      <td>Ben Simmons</td>\n      <td>275</td>\n      <td>9326.0</td>\n      <td>4382.0</td>\n      <td>1784.0</td>\n      <td>3188.0</td>\n      <td>56.0</td>\n      <td>5.0</td>\n      <td>34.0</td>\n      <td>...</td>\n      <td>523.0</td>\n      <td>1694.0</td>\n      <td>2217.0</td>\n      <td>2127.0</td>\n      <td>464.0</td>\n      <td>199.0</td>\n      <td>925.0</td>\n      <td>56.0</td>\n      <td>57.9</td>\n      <td>0</td>\n    </tr>\n    <tr>\n      <th>608</th>\n      <td>47</td>\n      <td>Trae Young</td>\n      <td>230</td>\n      <td>7639.0</td>\n      <td>5609.0</td>\n      <td>1796.0</td>\n      <td>4144.0</td>\n      <td>43.3</td>\n      <td>568.0</td>\n      <td>1631.0</td>\n      <td>...</td>\n      <td>157.0</td>\n      <td>750.0</td>\n      <td>907.0</td>\n      <td>2053.0</td>\n      <td>215.0</td>\n      <td>38.0</td>\n      <td>964.0</td>\n      <td>50.2</td>\n      <td>57.4</td>\n      <td>0</td>\n    </tr>\n    <tr>\n      <th>609</th>\n      <td>48</td>\n      <td>D'Angelo Russell</td>\n      <td>380</td>\n      <td>11086.0</td>\n      <td>6727.0</td>\n      <td>2459.0</td>\n      <td>5871.0</td>\n      <td>41.9</td>\n      <td>927.0</td>\n      <td>2594.0</td>\n      <td>...</td>\n      <td>204.0</td>\n      <td>1164.0</td>\n      <td>1368.0</td>\n      <td>2045.0</td>\n      <td>427.0</td>\n      <td>113.0</td>\n      <td>1087.0</td>\n      <td>49.8</td>\n      <td>52.8</td>\n      <td>0</td>\n    </tr>\n  </tbody>\n</table>\n<p>150 rows × 24 columns</p>\n</div>"
     },
     "execution_count": 7,
     "metadata": {},
     "output_type": "execute_result"
    }
   ],
   "source": [
    "df2"
   ]
  },
  {
   "cell_type": "code",
   "execution_count": 8,
   "metadata": {},
   "outputs": [],
   "source": [
    "#Exclude active players because they \n",
    "#can't be in Hall of Fame until retired\n",
    "df = df1[~df1.PLAYER.isin(df2.PLAYER)]"
   ]
  },
  {
   "cell_type": "code",
   "execution_count": 9,
   "metadata": {
    "scrolled": true
   },
   "outputs": [
    {
     "name": "stdout",
     "output_type": "stream",
     "text": [
      "GP        0\n",
      "MIN       0\n",
      "PTS       0\n",
      "REB       0\n",
      "AST       0\n",
      "STL     119\n",
      "BLK     119\n",
      "TOV     187\n",
      "EFG%      0\n",
      "TS%       0\n",
      "HOF       0\n",
      "dtype: int64\n"
     ]
    }
   ],
   "source": [
    "train = df[[\"GP\", \"MIN\", \"PTS\", \"REB\", \"AST\", \"STL\", \"BLK\", \"TOV\", \"EFG%\", \"TS%\", \"HOF\"]]\n",
    "print(train.isna().sum())"
   ]
  },
  {
   "cell_type": "code",
   "execution_count": 10,
   "metadata": {
    "scrolled": false
   },
   "outputs": [
    {
     "name": "stdout",
     "output_type": "stream",
     "text": [
      "GP      0\n",
      "MIN     0\n",
      "PTS     0\n",
      "REB     0\n",
      "AST     0\n",
      "STL     0\n",
      "BLK     0\n",
      "TOV     0\n",
      "EFG%    0\n",
      "TS%     0\n",
      "HOF     0\n",
      "dtype: int64\n"
     ]
    },
    {
     "name": "stderr",
     "output_type": "stream",
     "text": [
      "C:\\Users\\ec778\\AppData\\Local\\Temp/ipykernel_6904/598368201.py:1: SettingWithCopyWarning: \n",
      "A value is trying to be set on a copy of a slice from a DataFrame.\n",
      "Try using .loc[row_indexer,col_indexer] = value instead\n",
      "\n",
      "See the caveats in the documentation: https://pandas.pydata.org/pandas-docs/stable/user_guide/indexing.html#returning-a-view-versus-a-copy\n",
      "  train['STL'] = train['STL'].fillna(train['STL'].median())\n",
      "C:\\Users\\ec778\\AppData\\Local\\Temp/ipykernel_6904/598368201.py:2: SettingWithCopyWarning: \n",
      "A value is trying to be set on a copy of a slice from a DataFrame.\n",
      "Try using .loc[row_indexer,col_indexer] = value instead\n",
      "\n",
      "See the caveats in the documentation: https://pandas.pydata.org/pandas-docs/stable/user_guide/indexing.html#returning-a-view-versus-a-copy\n",
      "  train['BLK'] = train['BLK'].fillna(train['BLK'].median())\n",
      "C:\\Users\\ec778\\AppData\\Local\\Temp/ipykernel_6904/598368201.py:3: SettingWithCopyWarning: \n",
      "A value is trying to be set on a copy of a slice from a DataFrame.\n",
      "Try using .loc[row_indexer,col_indexer] = value instead\n",
      "\n",
      "See the caveats in the documentation: https://pandas.pydata.org/pandas-docs/stable/user_guide/indexing.html#returning-a-view-versus-a-copy\n",
      "  train['TOV'] = train['TOV'].fillna(train['TOV'].median())\n"
     ]
    }
   ],
   "source": [
    "train['STL'] = train['STL'].fillna(train['STL'].median())\n",
    "train['BLK'] = train['BLK'].fillna(train['BLK'].median())\n",
    "train['TOV'] = train['TOV'].fillna(train['TOV'].median())\n",
    "print(train.isna().sum())"
   ]
  },
  {
   "cell_type": "code",
   "execution_count": 11,
   "metadata": {
    "scrolled": true
   },
   "outputs": [
    {
     "data": {
      "text/plain": "       GP   MIN   PTS   REB  AST  STL  BLK  TOV  EFG%   TS%  HOF\n867   596  21.6   8.3   1.7  4.2    1  0.1  1.8  44.5  49.3  0.0\n408   551  29.2  12.7   2.7  6.0  1.2  0.1  2.1  50.4  55.5  0.0\n88   1392  34.0  19.0  10.8  3.0  0.7  2.2  2.4  50.7  55.1  1.0\n731   946  24.6   9.4   1.9  5.5  1.4  0.1  1.7  47.1  51.8  0.0\n145   768  33.5  17.4   8.1  2.0  0.7  0.3  1.6  50.2  53.9  0.0",
      "text/html": "<div>\n<style scoped>\n    .dataframe tbody tr th:only-of-type {\n        vertical-align: middle;\n    }\n\n    .dataframe tbody tr th {\n        vertical-align: top;\n    }\n\n    .dataframe thead th {\n        text-align: right;\n    }\n</style>\n<table border=\"1\" class=\"dataframe\">\n  <thead>\n    <tr style=\"text-align: right;\">\n      <th></th>\n      <th>GP</th>\n      <th>MIN</th>\n      <th>PTS</th>\n      <th>REB</th>\n      <th>AST</th>\n      <th>STL</th>\n      <th>BLK</th>\n      <th>TOV</th>\n      <th>EFG%</th>\n      <th>TS%</th>\n      <th>HOF</th>\n    </tr>\n  </thead>\n  <tbody>\n    <tr>\n      <th>867</th>\n      <td>596</td>\n      <td>21.6</td>\n      <td>8.3</td>\n      <td>1.7</td>\n      <td>4.2</td>\n      <td>1</td>\n      <td>0.1</td>\n      <td>1.8</td>\n      <td>44.5</td>\n      <td>49.3</td>\n      <td>0.0</td>\n    </tr>\n    <tr>\n      <th>408</th>\n      <td>551</td>\n      <td>29.2</td>\n      <td>12.7</td>\n      <td>2.7</td>\n      <td>6.0</td>\n      <td>1.2</td>\n      <td>0.1</td>\n      <td>2.1</td>\n      <td>50.4</td>\n      <td>55.5</td>\n      <td>0.0</td>\n    </tr>\n    <tr>\n      <th>88</th>\n      <td>1392</td>\n      <td>34.0</td>\n      <td>19.0</td>\n      <td>10.8</td>\n      <td>3.0</td>\n      <td>0.7</td>\n      <td>2.2</td>\n      <td>2.4</td>\n      <td>50.7</td>\n      <td>55.1</td>\n      <td>1.0</td>\n    </tr>\n    <tr>\n      <th>731</th>\n      <td>946</td>\n      <td>24.6</td>\n      <td>9.4</td>\n      <td>1.9</td>\n      <td>5.5</td>\n      <td>1.4</td>\n      <td>0.1</td>\n      <td>1.7</td>\n      <td>47.1</td>\n      <td>51.8</td>\n      <td>0.0</td>\n    </tr>\n    <tr>\n      <th>145</th>\n      <td>768</td>\n      <td>33.5</td>\n      <td>17.4</td>\n      <td>8.1</td>\n      <td>2.0</td>\n      <td>0.7</td>\n      <td>0.3</td>\n      <td>1.6</td>\n      <td>50.2</td>\n      <td>53.9</td>\n      <td>0.0</td>\n    </tr>\n  </tbody>\n</table>\n</div>"
     },
     "execution_count": 11,
     "metadata": {},
     "output_type": "execute_result"
    }
   ],
   "source": [
    "training_set = train.sample(frac=0.7, random_state=25)\n",
    "training_set.head()"
   ]
  },
  {
   "cell_type": "code",
   "execution_count": 12,
   "metadata": {
    "scrolled": true
   },
   "outputs": [
    {
     "data": {
      "text/plain": "      GP   MIN   PTS   REB  AST  STL  BLK  TOV  EFG%   TS%  HOF\n0   1072  38.3  30.1   6.2  5.3  2.3  0.8  2.7  50.9  56.9  1.0\n2    846  40.0  27.4  13.5  4.3  0.8  0.3  1.5  43.1  49.4  1.0\n11  1476  37.2  25.0  10.1  3.6  1.4  0.8  3.1  51.8  57.7  1.0\n13  1074  35.5  24.8   6.7  2.5  1.3  0.6  2.5  47.8  53.6  1.0\n19   658  37.0  24.2   4.2  5.4  1.4  0.3  3.7  44.1  50.0  1.0",
      "text/html": "<div>\n<style scoped>\n    .dataframe tbody tr th:only-of-type {\n        vertical-align: middle;\n    }\n\n    .dataframe tbody tr th {\n        vertical-align: top;\n    }\n\n    .dataframe thead th {\n        text-align: right;\n    }\n</style>\n<table border=\"1\" class=\"dataframe\">\n  <thead>\n    <tr style=\"text-align: right;\">\n      <th></th>\n      <th>GP</th>\n      <th>MIN</th>\n      <th>PTS</th>\n      <th>REB</th>\n      <th>AST</th>\n      <th>STL</th>\n      <th>BLK</th>\n      <th>TOV</th>\n      <th>EFG%</th>\n      <th>TS%</th>\n      <th>HOF</th>\n    </tr>\n  </thead>\n  <tbody>\n    <tr>\n      <th>0</th>\n      <td>1072</td>\n      <td>38.3</td>\n      <td>30.1</td>\n      <td>6.2</td>\n      <td>5.3</td>\n      <td>2.3</td>\n      <td>0.8</td>\n      <td>2.7</td>\n      <td>50.9</td>\n      <td>56.9</td>\n      <td>1.0</td>\n    </tr>\n    <tr>\n      <th>2</th>\n      <td>846</td>\n      <td>40.0</td>\n      <td>27.4</td>\n      <td>13.5</td>\n      <td>4.3</td>\n      <td>0.8</td>\n      <td>0.3</td>\n      <td>1.5</td>\n      <td>43.1</td>\n      <td>49.4</td>\n      <td>1.0</td>\n    </tr>\n    <tr>\n      <th>11</th>\n      <td>1476</td>\n      <td>37.2</td>\n      <td>25.0</td>\n      <td>10.1</td>\n      <td>3.6</td>\n      <td>1.4</td>\n      <td>0.8</td>\n      <td>3.1</td>\n      <td>51.8</td>\n      <td>57.7</td>\n      <td>1.0</td>\n    </tr>\n    <tr>\n      <th>13</th>\n      <td>1074</td>\n      <td>35.5</td>\n      <td>24.8</td>\n      <td>6.7</td>\n      <td>2.5</td>\n      <td>1.3</td>\n      <td>0.6</td>\n      <td>2.5</td>\n      <td>47.8</td>\n      <td>53.6</td>\n      <td>1.0</td>\n    </tr>\n    <tr>\n      <th>19</th>\n      <td>658</td>\n      <td>37.0</td>\n      <td>24.2</td>\n      <td>4.2</td>\n      <td>5.4</td>\n      <td>1.4</td>\n      <td>0.3</td>\n      <td>3.7</td>\n      <td>44.1</td>\n      <td>50.0</td>\n      <td>1.0</td>\n    </tr>\n  </tbody>\n</table>\n</div>"
     },
     "execution_count": 12,
     "metadata": {},
     "output_type": "execute_result"
    }
   ],
   "source": [
    "dev_set = train.drop(training_set.index)\n",
    "dev_set.head()"
   ]
  },
  {
   "cell_type": "code",
   "execution_count": 13,
   "metadata": {},
   "outputs": [],
   "source": [
    "train_set_y = training_set[\"HOF\"]\n",
    "train_set_x = training_set.drop(columns = [\"HOF\"])\n",
    "dev_set_y = dev_set[\"HOF\"]\n",
    "dev_set_x = dev_set.drop(columns = [\"HOF\"])"
   ]
  },
  {
   "cell_type": "code",
   "execution_count": 14,
   "metadata": {
    "scrolled": true
   },
   "outputs": [
    {
     "name": "stdout",
     "output_type": "stream",
     "text": [
      "0.9282238442822385\n"
     ]
    },
    {
     "name": "stderr",
     "output_type": "stream",
     "text": [
      "C:\\Users\\ec778\\AppData\\Local\\Programs\\Python\\Python39\\lib\\site-packages\\sklearn\\linear_model\\_logistic.py:763: ConvergenceWarning: lbfgs failed to converge (status=1):\n",
      "STOP: TOTAL NO. of ITERATIONS REACHED LIMIT.\n",
      "\n",
      "Increase the number of iterations (max_iter) or scale the data as shown in:\n",
      "    https://scikit-learn.org/stable/modules/preprocessing.html\n",
      "Please also refer to the documentation for alternative solver options:\n",
      "    https://scikit-learn.org/stable/modules/linear_model.html#logistic-regression\n",
      "  n_iter_i = _check_optimize_result(\n"
     ]
    }
   ],
   "source": [
    "from sklearn.linear_model import LogisticRegression\n",
    "logreg = LogisticRegression()\n",
    "train_X = train_set_x.to_numpy()\n",
    "train_Y = train_set_y.to_numpy()\n",
    "logreg.fit(train_X, train_Y)\n",
    "train_y_pred = logreg.predict(train_X)\n",
    "score = logreg.score(train_X, train_Y)\n",
    "print(score)"
   ]
  },
  {
   "cell_type": "code",
   "execution_count": 15,
   "metadata": {},
   "outputs": [],
   "source": [
    "from sklearn import metrics\n",
    "test_X = dev_set_x.to_numpy()\n",
    "test_Y = dev_set_y.to_numpy()\n",
    "test_y_pred = logreg.predict(test_X)\n",
    "from sklearn import metrics\n",
    "cnf_matrix = metrics.confusion_matrix(test_Y, test_y_pred)"
   ]
  },
  {
   "cell_type": "code",
   "execution_count": 16,
   "metadata": {},
   "outputs": [
    {
     "name": "stdout",
     "output_type": "stream",
     "text": [
      "Accuracy: 0.9232954545454546\n",
      "Precision: 0.7692307692307693\n",
      "Recall: 0.4878048780487805\n"
     ]
    }
   ],
   "source": [
    "print(\"Accuracy:\",metrics.accuracy_score(test_Y, test_y_pred))\n",
    "print(\"Precision:\",metrics.precision_score(test_Y, test_y_pred))\n",
    "print(\"Recall:\",metrics.recall_score(test_Y, test_y_pred))"
   ]
  },
  {
   "cell_type": "code",
   "execution_count": 17,
   "metadata": {},
   "outputs": [
    {
     "data": {
      "text/plain": "<Figure size 432x288 with 2 Axes>",
      "image/png": "[encoded data removed]"
     },
     "metadata": {
      "needs_background": "light"
     },
     "output_type": "display_data"
    }
   ],
   "source": [
    "import matplotlib.pyplot as plt\n",
    "import seaborn as sns\n",
    "%matplotlib inline\n",
    "\n",
    "class_names=[0,1] # name  of classes\n",
    "fig, ax = plt.subplots()\n",
    "tick_marks = np.arange(len(class_names))\n",
    "plt.xticks(tick_marks, class_names)\n",
    "plt.yticks(tick_marks, class_names)\n",
    "# create heatmap\n",
    "sns.heatmap(pd.DataFrame(cnf_matrix), annot=True, cmap=\"YlGnBu\" ,fmt='g')\n",
    "ax.xaxis.set_label_position(\"top\")\n",
    "plt.tight_layout()\n",
    "plt.title('Confusion matrix', y=1.1)\n",
    "plt.ylabel('Actual label')\n",
    "plt.xlabel('Predicted label')\n",
    "plt.savefig('Logreg.png')"
   ]
  },
  {
   "cell_type": "markdown",
   "source": [
    "## Predict whether active players will be in HOF"
   ],
   "metadata": {
    "collapsed": false
   }
  },
  {
   "cell_type": "code",
   "execution_count": 18,
   "outputs": [],
   "source": [
    "active = df2[[\"GP\", \"MIN\", \"PTS\", \"REB\", \"AST\", \"STL\", \"BLK\", \"TOV\", \"EFG%\", \"TS%\"]]"
   ],
   "metadata": {
    "collapsed": false,
    "pycharm": {
     "name": "#%%\n"
    }
   }
  },
  {
   "cell_type": "code",
   "execution_count": 19,
   "outputs": [
    {
     "name": "stdout",
     "output_type": "stream",
     "text": [
      "GP      0\n",
      "MIN     0\n",
      "PTS     0\n",
      "REB     0\n",
      "AST     0\n",
      "STL     0\n",
      "BLK     0\n",
      "TOV     0\n",
      "EFG%    0\n",
      "TS%     0\n",
      "dtype: int64\n"
     ]
    }
   ],
   "source": [
    "print(active.isna().sum())"
   ],
   "metadata": {
    "collapsed": false,
    "pycharm": {
     "name": "#%%\n"
    }
   }
  },
  {
   "cell_type": "code",
   "execution_count": 20,
   "metadata": {},
   "outputs": [],
   "source": [
    "active_pred = logreg.predict(active)"
   ]
  },
  {
   "cell_type": "code",
   "execution_count": 21,
   "outputs": [
    {
     "name": "stdout",
     "output_type": "stream",
     "text": [
      "[('Kevin Durant', 1.0), ('LeBron James', 1.0), ('James Harden', 1.0), ('Damian Lillard', 1.0), ('Stephen Curry', 1.0), ('Anthony Davis', 1.0), ('Russell Westbrook', 1.0), ('Devin Booker', 0.0), ('KarlNaNAnthony Towns', 1.0), ('Carmelo Anthony', 1.0), ('Kyrie Irving', 1.0), ('Bradley Beal', 0.0), ('Giannis Antetokounmpo', 1.0), ('Blake Griffin', 1.0), ('Paul George', 0.0), ('DeMar DeRozan', 1.0), ('Kemba Walker', 0.0), ('Klay Thompson', 0.0), ('Andrew Wiggins', 0.0), ('LaMarcus Aldridge', 0.0), ('Kawhi Leonard', 0.0), ('Zach LaVine', 0.0), ('John Wall', 1.0), ('CJ McCollum', 0.0), ('Nikola Jokic', 1.0), ('Derrick Rose', 0.0), ('Chris Paul', 1.0), ('Kevin Love', 1.0), ('Victor Oladipo', 0.0), ('Jimmy Butler', 0.0), ('Julius Randle', 0.0), ('Nikola Vucevic', 0.0), ('Khris Middleton', 0.0), ('Rudy Gay', 0.0), ('Eric Gordon', 0.0), ('Brook Lopez', 0.0), ('Tobias Harris', 0.0), ('Dwight Howard', 0.0), ('Buddy Hield', 0.0), ('Jrue Holiday', 0.0), ('Danilo Gallinari', 0.0), ('Gordon Hayward', 0.0), ('Jordan Clarkson', 0.0), ('Mike Conley', 0.0), ('Kyle Lowry', 0.0), ('Bojan Bogdanovic', 0.0), ('Andre Drummond', 0.0), ('Evan Fournier', 0.0), ('Dennis Schroder', 0.0), ('Lou Williams', 1.0), ('Harrison Barnes', 0.0), ('Al Horford', 0.0), ('Eric Bledsoe', 0.0), ('Tim Hardaway Jr.', 0.0), ('Goran Dragic', 0.0), ('Paul Millsap', 0.0), ('Hassan Whiteside', 0.0), ('Thaddeus Young', 0.0), ('Jonas Valanciunas', 0.0), ('Jeff Green', 0.0), ('Myles Turner', 0.0), ('Aaron Gordon', 0.0), ('Reggie Jackson', 0.0), ('Clint Capela', 0.0), ('Serge Ibaka', 0.0), ('Marcus Morris Sr.', 0.0), ('Rudy Gobert', 0.0), ('Robert Covington', 0.0), ('Gary Harris', 0.0), ('Kelly Oubre Jr.', 0.0), ('Andre Iguodala', 0.0), ('Terry Rozier', 0.0), ('Enes Kanter', 0.0), ('Avery Bradley', 0.0), ('Will Barton', 0.0), ('Kentavious CaldwellNaNPope', 0.0), ('Terrence Ross', 0.0), ('Nicolas Batum', 0.0), ('Rodney Hood', 0.0), ('Joe Harris', 0.0), ('Ricky Rubio', 0.0), ('George Hill', 0.0), ('Markieff Morris', 0.0), ('Otto Porter Jr.', 0.0), ('Jerami Grant', 0.0), ('Elfrid Payton', 0.0), ('Derrick Favors', 0.0), ('Trevor Ariza', 0.0), ('Alec Burks', 0.0), ('Jeremy Lamb', 0.0), ('Marcus Smart', 0.0), ('Kelly Olynyk', 0.0), ('Trey Burke', 0.0), ('Rajon Rondo', 0.0), ('D.J. Augustin', 0.0), ('Jae Crowder', 0.0), ('Steven Adams', 0.0), ('DeAndre Jordan', 0.0), ('Taj Gibson', 0.0), ('Tristan Thompson', 0.0), ('Doug McDermott', 0.0), ('Austin Rivers', 0.0), ('Patty Mills', 0.0), ('Danny Green', 0.0), ('Ben McLemore', 0.0), ('Willie CauleyNaNStein', 0.0), ('Patrick Beverley', 0.0), ('Robin Lopez', 0.0), ('Draymond Green', 0.0), ('Joe Ingles', 0.0), ('Cody Zeller', 0.0), ('Kent Bazemore', 0.0), ('Mason Plumlee', 0.0), ('Justin Holiday', 0.0), ('Wayne Ellington', 0.0), ('JaMychal Green', 0.0), (\"E'Twaun Moore\", 0.0), ('James Johnson', 0.0), ('JaVale McGee', 0.0), ('Alex Len', 0.0), ('Ish Smith', 0.0), ('Gorgui Dieng', 0.0), ('Udonis Haslem', 0.0), ('Nerlens Noel', 0.0), ('Dwight Powell', 0.0), ('P.J. Tucker', 0.0), ('Cory Joseph', 0.0), ('Maurice Harkless', 0.0), ('T.J. McConnell', 0.0), ('Kyle Anderson', 0.0), ('Garrett Temple', 0.0), ('Dewayne Dedmon', 0.0), ('Tony Snell', 0.0), ('Ed Davis', 0.0), ('Solomon Hill', 0.0), ('Wesley Matthews', 0.0), ('DeMarcus Cousins', 1.0), ('Kentavious Caldwell-Pope', 0.0), ('Tyus Jones', 0.0), ('Willie Cauley-Stein', 0.0), ('Karl-Anthony Towns', 1.0), ('Enes Freedom', 1.0), ('Nemanja Bjelica', 0.0), ('Montrezl Harrell', 1.0), ('Bobby Portis', 1.0), ('Mike Muscala', 0.0), ('Kristaps Porzingis', 1.0), ('Ben Simmons', 1.0), ('Trae Young', 1.0), (\"D'Angelo Russell\", 1.0)]\n"
     ]
    }
   ],
   "source": [
    "print(list(zip(df2['PLAYER'], active_pred)))"
   ],
   "metadata": {
    "collapsed": false,
    "pycharm": {
     "name": "#%%\n"
    }
   }
  }
 ],
 "metadata": {
  "kernelspec": {
   "display_name": "Python 3",
   "language": "python",
   "name": "python3"
  },
  "language_info": {
   "codemirror_mode": {
    "name": "ipython",
    "version": 3
   },
   "file_extension": ".py",
   "mimetype": "text/x-python",
   "name": "python",
   "nbconvert_exporter": "python",
   "pygments_lexer": "ipython3",
   "version": "3.7.3"
  }
 },
 "nbformat": 4,
 "nbformat_minor": 2
}