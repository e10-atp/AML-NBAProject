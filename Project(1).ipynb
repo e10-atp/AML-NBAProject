{
 "cells": [
  {
   "cell_type": "code",
   "execution_count": 1,
   "metadata": {},
   "outputs": [],
   "source": [
    "import pandas as pd\n",
    "import numpy as np\n",
    "import matplotlib.pyplot as plt\n",
    "import seaborn as sns\n",
    "from sklearn import preprocessing\n",
    "%matplotlib inline"
   ]
  },
  {
   "cell_type": "code",
   "execution_count": 2,
   "metadata": {
    "pycharm": {
     "name": "#%%\n"
    }
   },
   "outputs": [],
   "source": [
    "\n",
    "#df1 includes both active and inactive players\n",
    "df1 = pd.read_csv('NBA_AllTimeLeader.csv')\n",
    "#df2 includes only active players\n",
    "df2 = pd.read_csv('NBA_AllTimeLeader_Active.csv')\n",
    "#df3 includes player data such as year, position and height\n",
    "df3 = pd.read_csv(\"player_data.csv\")\n",
    "df3 = df3.rename(columns = {\"name\":\"PLAYER\"})\n",
    "hof = []\n",
    "with open('HOF.csv', 'r') as f:\n",
    "    for line in f:\n",
    "        hof.append(line.strip())"
   ]
  },
  {
   "cell_type": "code",
   "execution_count": 3,
   "metadata": {
    "pycharm": {
     "name": "#%%\n"
    }
   },
   "outputs": [],
   "source": [
    "#drop duplicates from merging pts, ast, steal, reb, blk all-times\n",
    "df1 = df1.drop_duplicates(subset='PLAYER')\n",
    "df2 = df2.drop_duplicates(subset='PLAYER')"
   ]
  },
  {
   "cell_type": "code",
   "execution_count": 4,
   "metadata": {
    "pycharm": {
     "name": "#%%\n"
    }
   },
   "outputs": [],
   "source": [
    "df1['HOF'] = [1.0 if player in hof else 0.0 for player in df1['PLAYER']]"
   ]
  },
  {
   "cell_type": "code",
   "execution_count": 5,
   "metadata": {
    "pycharm": {
     "name": "#%%\n"
    }
   },
   "outputs": [],
   "source": [
    "df1['GP'] = pd.to_numeric(df1['GP'].str.replace(',',''))\n",
    "df2['GP'] = pd.to_numeric(df2['GP'].str.replace(',',''))"
   ]
  },
  {
   "cell_type": "code",
   "execution_count": 6,
   "metadata": {
    "pycharm": {
     "name": "#%%\n"
    }
   },
   "outputs": [],
   "source": [
    "df1 = df1.replace('-', np.NaN)"
   ]
  },
  {
   "cell_type": "code",
   "execution_count": 7,
   "metadata": {},
   "outputs": [
    {
     "data": {
      "text/plain": "        #               PLAYER    GP    MIN    PTS    FGM    FGA   FG%   3PM  \\\n0       1  Kareem Abdul-Jabbar  1560  57446  38387  15837  28307  55.9     1   \n1       2          Karl Malone  1476  54852  36928  13528  26210  51.6    85   \n2       3         LeBron James  1325  50605  35757  13051  25900  50.4  2020   \n3       4          Kobe Bryant  1346  48643  33643  11719  26200  44.7  1827   \n4       5       Michael Jordan  1072  41010  32292  12192  24537  49.7   581   \n...   ...                  ...   ...    ...    ...    ...    ...   ...   ...   \n1734  424           Trae Young   229   7603   5578   1786   4117  43.4   566   \n5474  227   Kristaps Porzingis   304   9445   5694   2057   4655  44.2   552   \n5477  231           Keon Clark   353   7973   2882   1179   2359  50.0     1   \n5489  242        Jawann Oldham   329   5241   1455    608   1269  47.9     0   \n5509  263        Eddie Griffin   303   6729   2171    854   2263  37.7   237   \n\n       3PA  ...  OREB   DREB    REB   AST   STL   BLK   TOV  EFG%   TS%  HOF  \n0       18  ...  2975   9394  17440  5660  1160  3189  2527  55.9  59.2  1.0  \n1      310  ...  3562  11406  14968  5248  2085  1145  4524  51.8  57.7  1.0  \n2     5856  ...  1548   8290   9838  9799  2092   994  4646  54.3  58.7  0.0  \n3     5546  ...  1499   5548   7047  6306  1944   640  4010  48.2  55.0  1.0  \n4     1778  ...  1668   5004   6672  5633  2514   893  2924  50.9  56.9  1.0  \n...    ...  ...   ...    ...    ...   ...   ...   ...   ...   ...   ...  ...  \n1734  1623  ...   152    748    900  2043   213    38   957  50.3  57.5  0.0  \n5474  1546  ...   527   1849   2376   455   212   577   499  50.1  54.6  0.0  \n5477    19  ...   655   1441   2096   322   184   571   470  50.0  53.1  0.0  \n5489     3  ...   431    922   1353   162    97   546   362  47.9  50.4  0.0  \n5509   752  ...   497   1247   1744   236   105   518   227  43.0  45.0  0.0  \n\n[1314 rows x 24 columns]",
      "text/html": "<div>\n<style scoped>\n    .dataframe tbody tr th:only-of-type {\n        vertical-align: middle;\n    }\n\n    .dataframe tbody tr th {\n        vertical-align: top;\n    }\n\n    .dataframe thead th {\n        text-align: right;\n    }\n</style>\n<table border=\"1\" class=\"dataframe\">\n  <thead>\n    <tr style=\"text-align: right;\">\n      <th></th>\n      <th>#</th>\n      <th>PLAYER</th>\n      <th>GP</th>\n      <th>MIN</th>\n      <th>PTS</th>\n      <th>FGM</th>\n      <th>FGA</th>\n      <th>FG%</th>\n      <th>3PM</th>\n      <th>3PA</th>\n      <th>...</th>\n      <th>OREB</th>\n      <th>DREB</th>\n      <th>REB</th>\n      <th>AST</th>\n      <th>STL</th>\n      <th>BLK</th>\n      <th>TOV</th>\n      <th>EFG%</th>\n      <th>TS%</th>\n      <th>HOF</th>\n    </tr>\n  </thead>\n  <tbody>\n    <tr>\n      <th>0</th>\n      <td>1</td>\n      <td>Kareem Abdul-Jabbar</td>\n      <td>1560</td>\n      <td>57446</td>\n      <td>38387</td>\n      <td>15837</td>\n      <td>28307</td>\n      <td>55.9</td>\n      <td>1</td>\n      <td>18</td>\n      <td>...</td>\n      <td>2975</td>\n      <td>9394</td>\n      <td>17440</td>\n      <td>5660</td>\n      <td>1160</td>\n      <td>3189</td>\n      <td>2527</td>\n      <td>55.9</td>\n      <td>59.2</td>\n      <td>1.0</td>\n    </tr>\n    <tr>\n      <th>1</th>\n      <td>2</td>\n      <td>Karl Malone</td>\n      <td>1476</td>\n      <td>54852</td>\n      <td>36928</td>\n      <td>13528</td>\n      <td>26210</td>\n      <td>51.6</td>\n      <td>85</td>\n      <td>310</td>\n      <td>...</td>\n      <td>3562</td>\n      <td>11406</td>\n      <td>14968</td>\n      <td>5248</td>\n      <td>2085</td>\n      <td>1145</td>\n      <td>4524</td>\n      <td>51.8</td>\n      <td>57.7</td>\n      <td>1.0</td>\n    </tr>\n    <tr>\n      <th>2</th>\n      <td>3</td>\n      <td>LeBron James</td>\n      <td>1325</td>\n      <td>50605</td>\n      <td>35757</td>\n      <td>13051</td>\n      <td>25900</td>\n      <td>50.4</td>\n      <td>2020</td>\n      <td>5856</td>\n      <td>...</td>\n      <td>1548</td>\n      <td>8290</td>\n      <td>9838</td>\n      <td>9799</td>\n      <td>2092</td>\n      <td>994</td>\n      <td>4646</td>\n      <td>54.3</td>\n      <td>58.7</td>\n      <td>0.0</td>\n    </tr>\n    <tr>\n      <th>3</th>\n      <td>4</td>\n      <td>Kobe Bryant</td>\n      <td>1346</td>\n      <td>48643</td>\n      <td>33643</td>\n      <td>11719</td>\n      <td>26200</td>\n      <td>44.7</td>\n      <td>1827</td>\n      <td>5546</td>\n      <td>...</td>\n      <td>1499</td>\n      <td>5548</td>\n      <td>7047</td>\n      <td>6306</td>\n      <td>1944</td>\n      <td>640</td>\n      <td>4010</td>\n      <td>48.2</td>\n      <td>55.0</td>\n      <td>1.0</td>\n    </tr>\n    <tr>\n      <th>4</th>\n      <td>5</td>\n      <td>Michael Jordan</td>\n      <td>1072</td>\n      <td>41010</td>\n      <td>32292</td>\n      <td>12192</td>\n      <td>24537</td>\n      <td>49.7</td>\n      <td>581</td>\n      <td>1778</td>\n      <td>...</td>\n      <td>1668</td>\n      <td>5004</td>\n      <td>6672</td>\n      <td>5633</td>\n      <td>2514</td>\n      <td>893</td>\n      <td>2924</td>\n      <td>50.9</td>\n      <td>56.9</td>\n      <td>1.0</td>\n    </tr>\n    <tr>\n      <th>...</th>\n      <td>...</td>\n      <td>...</td>\n      <td>...</td>\n      <td>...</td>\n      <td>...</td>\n      <td>...</td>\n      <td>...</td>\n      <td>...</td>\n      <td>...</td>\n      <td>...</td>\n      <td>...</td>\n      <td>...</td>\n      <td>...</td>\n      <td>...</td>\n      <td>...</td>\n      <td>...</td>\n      <td>...</td>\n      <td>...</td>\n      <td>...</td>\n      <td>...</td>\n      <td>...</td>\n    </tr>\n    <tr>\n      <th>1734</th>\n      <td>424</td>\n      <td>Trae Young</td>\n      <td>229</td>\n      <td>7603</td>\n      <td>5578</td>\n      <td>1786</td>\n      <td>4117</td>\n      <td>43.4</td>\n      <td>566</td>\n      <td>1623</td>\n      <td>...</td>\n      <td>152</td>\n      <td>748</td>\n      <td>900</td>\n      <td>2043</td>\n      <td>213</td>\n      <td>38</td>\n      <td>957</td>\n      <td>50.3</td>\n      <td>57.5</td>\n      <td>0.0</td>\n    </tr>\n    <tr>\n      <th>5474</th>\n      <td>227</td>\n      <td>Kristaps Porzingis</td>\n      <td>304</td>\n      <td>9445</td>\n      <td>5694</td>\n      <td>2057</td>\n      <td>4655</td>\n      <td>44.2</td>\n      <td>552</td>\n      <td>1546</td>\n      <td>...</td>\n      <td>527</td>\n      <td>1849</td>\n      <td>2376</td>\n      <td>455</td>\n      <td>212</td>\n      <td>577</td>\n      <td>499</td>\n      <td>50.1</td>\n      <td>54.6</td>\n      <td>0.0</td>\n    </tr>\n    <tr>\n      <th>5477</th>\n      <td>231</td>\n      <td>Keon Clark</td>\n      <td>353</td>\n      <td>7973</td>\n      <td>2882</td>\n      <td>1179</td>\n      <td>2359</td>\n      <td>50.0</td>\n      <td>1</td>\n      <td>19</td>\n      <td>...</td>\n      <td>655</td>\n      <td>1441</td>\n      <td>2096</td>\n      <td>322</td>\n      <td>184</td>\n      <td>571</td>\n      <td>470</td>\n      <td>50.0</td>\n      <td>53.1</td>\n      <td>0.0</td>\n    </tr>\n    <tr>\n      <th>5489</th>\n      <td>242</td>\n      <td>Jawann Oldham</td>\n      <td>329</td>\n      <td>5241</td>\n      <td>1455</td>\n      <td>608</td>\n      <td>1269</td>\n      <td>47.9</td>\n      <td>0</td>\n      <td>3</td>\n      <td>...</td>\n      <td>431</td>\n      <td>922</td>\n      <td>1353</td>\n      <td>162</td>\n      <td>97</td>\n      <td>546</td>\n      <td>362</td>\n      <td>47.9</td>\n      <td>50.4</td>\n      <td>0.0</td>\n    </tr>\n    <tr>\n      <th>5509</th>\n      <td>263</td>\n      <td>Eddie Griffin</td>\n      <td>303</td>\n      <td>6729</td>\n      <td>2171</td>\n      <td>854</td>\n      <td>2263</td>\n      <td>37.7</td>\n      <td>237</td>\n      <td>752</td>\n      <td>...</td>\n      <td>497</td>\n      <td>1247</td>\n      <td>1744</td>\n      <td>236</td>\n      <td>105</td>\n      <td>518</td>\n      <td>227</td>\n      <td>43.0</td>\n      <td>45.0</td>\n      <td>0.0</td>\n    </tr>\n  </tbody>\n</table>\n<p>1314 rows × 24 columns</p>\n</div>"
     },
     "execution_count": 7,
     "metadata": {},
     "output_type": "execute_result"
    }
   ],
   "source": [
    "df1"
   ]
  },
  {
   "cell_type": "code",
   "execution_count": 8,
   "metadata": {},
   "outputs": [
    {
     "data": {
      "text/plain": "       #              PLAYER    GP    MIN    PTS    FGM    FGA   FG%   3PM  \\\n0      1        LeBron James  1325  50605  35757  13051  25900  50.4  2020   \n1      2     Carmelo Anthony  1218  42471  27736   9923  22205  44.7  1647   \n2      3        Kevin Durant   908  33333  24567   8388  16934  49.5  1696   \n3      4        James Harden   903  31140  22587   6667  15040  44.3  2509   \n4      5   Russell Westbrook   970  33719  22384   7971  18211  43.8  1099   \n..   ...                 ...   ...    ...    ...    ...    ...   ...   ...   \n141  142          Tyus Jones   408   7342   2359    911   2108  43.2   243   \n317   34  Kristaps Porzingis   304   9445   5694   2057   4655  44.2   552   \n613   45         Ben Simmons   275   9326   4382   1784   3188  56.0     5   \n615   47          Trae Young   230   7639   5609   1796   4144  43.3   568   \n616   48    D'Angelo Russell   380  11086   6727   2459   5871  41.9   927   \n\n      3PA  ...  OREB  DREB   REB   AST   STL   BLK   TOV  EFG%   TS%  HOF  \n0    5856  ...  1548  8290  9838  9799  2092   994  4646  54.3  58.7    0  \n1    4636  ...  1944  5687  7631  3378  1196   607  3016  48.4  54.2    0  \n2    4421  ...   642  5779  6421  3811   989  1005  2847  54.5  61.5    0  \n3    6918  ...   710  4290  5000  5980  1403   493  3385  52.7  61.1    0  \n4    3592  ...  1615  5555  7170  8292  1656   299  4018  46.8  52.8    0  \n..    ...  ...   ...   ...   ...   ...   ...   ...   ...   ...   ...  ...  \n141   705  ...    91   599   690  1476   401    33   300  49.0  52.1    0  \n317  1546  ...   527  1849  2376   455   212   577   499  50.1  54.6    0  \n613    34  ...   523  1694  2217  2127   464   199   925  56.0  57.9    0  \n615  1631  ...   157   750   907  2053   215    38   964  50.2  57.4    0  \n616  2594  ...   204  1164  1368  2045   427   113  1087  49.8  52.8    0  \n\n[146 rows x 24 columns]",
      "text/html": "<div>\n<style scoped>\n    .dataframe tbody tr th:only-of-type {\n        vertical-align: middle;\n    }\n\n    .dataframe tbody tr th {\n        vertical-align: top;\n    }\n\n    .dataframe thead th {\n        text-align: right;\n    }\n</style>\n<table border=\"1\" class=\"dataframe\">\n  <thead>\n    <tr style=\"text-align: right;\">\n      <th></th>\n      <th>#</th>\n      <th>PLAYER</th>\n      <th>GP</th>\n      <th>MIN</th>\n      <th>PTS</th>\n      <th>FGM</th>\n      <th>FGA</th>\n      <th>FG%</th>\n      <th>3PM</th>\n      <th>3PA</th>\n      <th>...</th>\n      <th>OREB</th>\n      <th>DREB</th>\n      <th>REB</th>\n      <th>AST</th>\n      <th>STL</th>\n      <th>BLK</th>\n      <th>TOV</th>\n      <th>EFG%</th>\n      <th>TS%</th>\n      <th>HOF</th>\n    </tr>\n  </thead>\n  <tbody>\n    <tr>\n      <th>0</th>\n      <td>1</td>\n      <td>LeBron James</td>\n      <td>1325</td>\n      <td>50605</td>\n      <td>35757</td>\n      <td>13051</td>\n      <td>25900</td>\n      <td>50.4</td>\n      <td>2020</td>\n      <td>5856</td>\n      <td>...</td>\n      <td>1548</td>\n      <td>8290</td>\n      <td>9838</td>\n      <td>9799</td>\n      <td>2092</td>\n      <td>994</td>\n      <td>4646</td>\n      <td>54.3</td>\n      <td>58.7</td>\n      <td>0</td>\n    </tr>\n    <tr>\n      <th>1</th>\n      <td>2</td>\n      <td>Carmelo Anthony</td>\n      <td>1218</td>\n      <td>42471</td>\n      <td>27736</td>\n      <td>9923</td>\n      <td>22205</td>\n      <td>44.7</td>\n      <td>1647</td>\n      <td>4636</td>\n      <td>...</td>\n      <td>1944</td>\n      <td>5687</td>\n      <td>7631</td>\n      <td>3378</td>\n      <td>1196</td>\n      <td>607</td>\n      <td>3016</td>\n      <td>48.4</td>\n      <td>54.2</td>\n      <td>0</td>\n    </tr>\n    <tr>\n      <th>2</th>\n      <td>3</td>\n      <td>Kevin Durant</td>\n      <td>908</td>\n      <td>33333</td>\n      <td>24567</td>\n      <td>8388</td>\n      <td>16934</td>\n      <td>49.5</td>\n      <td>1696</td>\n      <td>4421</td>\n      <td>...</td>\n      <td>642</td>\n      <td>5779</td>\n      <td>6421</td>\n      <td>3811</td>\n      <td>989</td>\n      <td>1005</td>\n      <td>2847</td>\n      <td>54.5</td>\n      <td>61.5</td>\n      <td>0</td>\n    </tr>\n    <tr>\n      <th>3</th>\n      <td>4</td>\n      <td>James Harden</td>\n      <td>903</td>\n      <td>31140</td>\n      <td>22587</td>\n      <td>6667</td>\n      <td>15040</td>\n      <td>44.3</td>\n      <td>2509</td>\n      <td>6918</td>\n      <td>...</td>\n      <td>710</td>\n      <td>4290</td>\n      <td>5000</td>\n      <td>5980</td>\n      <td>1403</td>\n      <td>493</td>\n      <td>3385</td>\n      <td>52.7</td>\n      <td>61.1</td>\n      <td>0</td>\n    </tr>\n    <tr>\n      <th>4</th>\n      <td>5</td>\n      <td>Russell Westbrook</td>\n      <td>970</td>\n      <td>33719</td>\n      <td>22384</td>\n      <td>7971</td>\n      <td>18211</td>\n      <td>43.8</td>\n      <td>1099</td>\n      <td>3592</td>\n      <td>...</td>\n      <td>1615</td>\n      <td>5555</td>\n      <td>7170</td>\n      <td>8292</td>\n      <td>1656</td>\n      <td>299</td>\n      <td>4018</td>\n      <td>46.8</td>\n      <td>52.8</td>\n      <td>0</td>\n    </tr>\n    <tr>\n      <th>...</th>\n      <td>...</td>\n      <td>...</td>\n      <td>...</td>\n      <td>...</td>\n      <td>...</td>\n      <td>...</td>\n      <td>...</td>\n      <td>...</td>\n      <td>...</td>\n      <td>...</td>\n      <td>...</td>\n      <td>...</td>\n      <td>...</td>\n      <td>...</td>\n      <td>...</td>\n      <td>...</td>\n      <td>...</td>\n      <td>...</td>\n      <td>...</td>\n      <td>...</td>\n      <td>...</td>\n    </tr>\n    <tr>\n      <th>141</th>\n      <td>142</td>\n      <td>Tyus Jones</td>\n      <td>408</td>\n      <td>7342</td>\n      <td>2359</td>\n      <td>911</td>\n      <td>2108</td>\n      <td>43.2</td>\n      <td>243</td>\n      <td>705</td>\n      <td>...</td>\n      <td>91</td>\n      <td>599</td>\n      <td>690</td>\n      <td>1476</td>\n      <td>401</td>\n      <td>33</td>\n      <td>300</td>\n      <td>49.0</td>\n      <td>52.1</td>\n      <td>0</td>\n    </tr>\n    <tr>\n      <th>317</th>\n      <td>34</td>\n      <td>Kristaps Porzingis</td>\n      <td>304</td>\n      <td>9445</td>\n      <td>5694</td>\n      <td>2057</td>\n      <td>4655</td>\n      <td>44.2</td>\n      <td>552</td>\n      <td>1546</td>\n      <td>...</td>\n      <td>527</td>\n      <td>1849</td>\n      <td>2376</td>\n      <td>455</td>\n      <td>212</td>\n      <td>577</td>\n      <td>499</td>\n      <td>50.1</td>\n      <td>54.6</td>\n      <td>0</td>\n    </tr>\n    <tr>\n      <th>613</th>\n      <td>45</td>\n      <td>Ben Simmons</td>\n      <td>275</td>\n      <td>9326</td>\n      <td>4382</td>\n      <td>1784</td>\n      <td>3188</td>\n      <td>56.0</td>\n      <td>5</td>\n      <td>34</td>\n      <td>...</td>\n      <td>523</td>\n      <td>1694</td>\n      <td>2217</td>\n      <td>2127</td>\n      <td>464</td>\n      <td>199</td>\n      <td>925</td>\n      <td>56.0</td>\n      <td>57.9</td>\n      <td>0</td>\n    </tr>\n    <tr>\n      <th>615</th>\n      <td>47</td>\n      <td>Trae Young</td>\n      <td>230</td>\n      <td>7639</td>\n      <td>5609</td>\n      <td>1796</td>\n      <td>4144</td>\n      <td>43.3</td>\n      <td>568</td>\n      <td>1631</td>\n      <td>...</td>\n      <td>157</td>\n      <td>750</td>\n      <td>907</td>\n      <td>2053</td>\n      <td>215</td>\n      <td>38</td>\n      <td>964</td>\n      <td>50.2</td>\n      <td>57.4</td>\n      <td>0</td>\n    </tr>\n    <tr>\n      <th>616</th>\n      <td>48</td>\n      <td>D'Angelo Russell</td>\n      <td>380</td>\n      <td>11086</td>\n      <td>6727</td>\n      <td>2459</td>\n      <td>5871</td>\n      <td>41.9</td>\n      <td>927</td>\n      <td>2594</td>\n      <td>...</td>\n      <td>204</td>\n      <td>1164</td>\n      <td>1368</td>\n      <td>2045</td>\n      <td>427</td>\n      <td>113</td>\n      <td>1087</td>\n      <td>49.8</td>\n      <td>52.8</td>\n      <td>0</td>\n    </tr>\n  </tbody>\n</table>\n<p>146 rows × 24 columns</p>\n</div>"
     },
     "execution_count": 8,
     "metadata": {},
     "output_type": "execute_result"
    }
   ],
   "source": [
    "df2"
   ]
  },
  {
   "cell_type": "code",
   "execution_count": 9,
   "metadata": {},
   "outputs": [],
   "source": [
    "#Exclude active players because they \n",
    "#can't be in Hall of Fame until retired\n",
    "df = df1[~df1.PLAYER.isin(df2.PLAYER)]\n",
    "df = df.merge(df3, how='inner', on='PLAYER')"
   ]
  },
  {
   "cell_type": "code",
   "execution_count": 10,
   "metadata": {
    "scrolled": true
   },
   "outputs": [
    {
     "name": "stdout",
     "output_type": "stream",
     "text": [
      "#               0\n",
      "PLAYER          0\n",
      "GP              0\n",
      "MIN             0\n",
      "PTS             0\n",
      "FGM             0\n",
      "FGA             0\n",
      "FG%             0\n",
      "3PM           199\n",
      "3PA           199\n",
      "3P%           199\n",
      "FTM             0\n",
      "FTA             0\n",
      "FT%             0\n",
      "OREB          106\n",
      "DREB          106\n",
      "REB             0\n",
      "AST             0\n",
      "STL           106\n",
      "BLK           106\n",
      "TOV           175\n",
      "EFG%            0\n",
      "TS%             0\n",
      "HOF             0\n",
      "year_start      0\n",
      "year_end        0\n",
      "position        0\n",
      "height          0\n",
      "weight          0\n",
      "birth_date      0\n",
      "college        78\n",
      "dtype: int64\n"
     ]
    }
   ],
   "source": [
    "train = df.copy()\n",
    "print(train.isna().sum())"
   ]
  },
  {
   "cell_type": "code",
   "execution_count": 11,
   "metadata": {
    "pycharm": {
     "name": "#%%\n"
    }
   },
   "outputs": [],
   "source": [
    "for index, value in train.isna().sum().drop('college').items():\n",
    "    if value > 0:\n",
    "        train[index] = train[index].fillna(train[index].median())"
   ]
  },
  {
   "cell_type": "code",
   "execution_count": 12,
   "metadata": {
    "pycharm": {
     "name": "#%%\n"
    }
   },
   "outputs": [
    {
     "name": "stdout",
     "output_type": "stream",
     "text": [
      "#              0\n",
      "PLAYER         0\n",
      "GP             0\n",
      "MIN            0\n",
      "PTS            0\n",
      "FGM            0\n",
      "FGA            0\n",
      "FG%            0\n",
      "3PM            0\n",
      "3PA            0\n",
      "3P%            0\n",
      "FTM            0\n",
      "FTA            0\n",
      "FT%            0\n",
      "OREB           0\n",
      "DREB           0\n",
      "REB            0\n",
      "AST            0\n",
      "STL            0\n",
      "BLK            0\n",
      "TOV            0\n",
      "EFG%           0\n",
      "TS%            0\n",
      "HOF            0\n",
      "year_start     0\n",
      "year_end       0\n",
      "position       0\n",
      "height         0\n",
      "weight         0\n",
      "birth_date     0\n",
      "college       78\n",
      "dtype: int64\n"
     ]
    }
   ],
   "source": [
    "print(train.isna().sum())"
   ]
  },
  {
   "cell_type": "code",
   "execution_count": 13,
   "metadata": {
    "pycharm": {
     "name": "#%%\n"
    }
   },
   "outputs": [
    {
     "data": {
      "text/plain": "(1162, 31)"
     },
     "execution_count": 13,
     "metadata": {},
     "output_type": "execute_result"
    }
   ],
   "source": [
    "train.shape"
   ]
  },
  {
   "cell_type": "code",
   "execution_count": 14,
   "metadata": {
    "pycharm": {
     "name": "#%%\n"
    }
   },
   "outputs": [],
   "source": [
    "train = train.drop(columns=['PLAYER', '#', 'college', 'position', 'height', 'weight', 'birth_date'])\n",
    "train = train.astype('float32')"
   ]
  },
  {
   "cell_type": "code",
   "execution_count": 15,
   "metadata": {
    "pycharm": {
     "name": "#%%\n"
    }
   },
   "outputs": [],
   "source": [
    "#unused for now\n",
    "def normalize(df) :\n",
    "    x = df.values\n",
    "    scaler = preprocessing.MinMaxScaler()\n",
    "    x_scaled = scaler.fit_transform(x)\n",
    "    return pd.DataFrame(x_scaled, columns=df.columns)"
   ]
  },
  {
   "cell_type": "code",
   "execution_count": 16,
   "metadata": {
    "pycharm": {
     "name": "#%%\n"
    }
   },
   "outputs": [],
   "source": [
    "#train = normalize(train)"
   ]
  },
  {
   "cell_type": "code",
   "execution_count": 17,
   "metadata": {
    "pycharm": {
     "name": "#%%\n"
    }
   },
   "outputs": [],
   "source": [
    "corr = train.drop(columns = ['HOF']).corrwith(train['HOF']).abs().sort_values(ascending=False)"
   ]
  },
  {
   "cell_type": "code",
   "execution_count": 18,
   "metadata": {
    "pycharm": {
     "name": "#%%\n"
    }
   },
   "outputs": [
    {
     "data": {
      "text/plain": "FTA           0.593022\nFTM           0.587085\nPTS           0.536683\nFGM           0.527158\nFGA           0.525864\nREB           0.452217\nMIN           0.437756\nAST           0.367372\nTOV           0.316167\nyear_start    0.312356\nGP            0.296621\nDREB          0.279891\nyear_end      0.261033\nSTL           0.254657\nBLK           0.220354\nOREB          0.219234\nFT%           0.074505\nFG%           0.059484\nTS%           0.058962\nEFG%          0.046602\n3P%           0.014372\n3PM           0.011327\n3PA           0.003557\ndtype: float64"
     },
     "execution_count": 18,
     "metadata": {},
     "output_type": "execute_result"
    }
   ],
   "source": [
    "corr"
   ]
  },
  {
   "cell_type": "code",
   "execution_count": 19,
   "metadata": {
    "pycharm": {
     "name": "#%%\n"
    }
   },
   "outputs": [
    {
     "data": {
      "text/plain": "<BarContainer object of 23 artists>"
     },
     "execution_count": 19,
     "metadata": {},
     "output_type": "execute_result"
    },
    {
     "data": {
      "text/plain": "<Figure size 1600x600 with 1 Axes>",
      "image/png": "[encoded data removed]"
     },
     "metadata": {
      "needs_background": "light"
     },
     "output_type": "display_data"
    }
   ],
   "source": [
    "plt.figure(figsize=(16, 6), dpi=100)\n",
    "plt.bar(x=corr.index, height=corr)"
   ]
  },
  {
   "cell_type": "code",
   "execution_count": 20,
   "metadata": {
    "pycharm": {
     "name": "#%%\n"
    }
   },
   "outputs": [],
   "source": [
    "train = train.drop(columns = corr.index[-7:])"
   ]
  },
  {
   "cell_type": "code",
   "execution_count": 21,
   "metadata": {
    "pycharm": {
     "name": "#%%\n"
    }
   },
   "outputs": [],
   "source": [
    "train = train.drop(columns = ['OREB', 'DREB'])"
   ]
  },
  {
   "cell_type": "code",
   "execution_count": 22,
   "metadata": {
    "scrolled": true
   },
   "outputs": [
    {
     "data": {
      "text/plain": "         GP      MIN     PTS     FGM     FGA     FTM     FTA     REB     AST  \\\n490   840.0  19917.0  7712.0  2663.0  6507.0  1463.0  1679.0  2269.0  3394.0   \n847   506.0   9866.0  4366.0  1792.0  3580.0   778.0  1210.0  2276.0   504.0   \n801   965.0  14712.0  4666.0  1902.0  4201.0   849.0  1069.0  3991.0   622.0   \n712   620.0  14395.0  5400.0  1993.0  4560.0  1373.0  1744.0  1318.0  3080.0   \n1037  629.0  13580.0  3003.0  1163.0  2728.0   604.0  1036.0  2563.0   798.0   \n\n         STL    BLK     TOV  HOF  year_start  year_end  \n490   1133.0   98.0  1556.0  0.0      1995.0    2008.0  \n847    223.0  174.0   599.0  0.0      1996.0    2004.0  \n801    261.0  285.0   777.0  0.0      1986.0    2000.0  \n712    910.0   58.0  1240.0  0.0      1982.0    1991.0  \n1037   435.0  323.0   674.0  0.0      2003.0    2013.0  ",
      "text/html": "<div>\n<style scoped>\n    .dataframe tbody tr th:only-of-type {\n        vertical-align: middle;\n    }\n\n    .dataframe tbody tr th {\n        vertical-align: top;\n    }\n\n    .dataframe thead th {\n        text-align: right;\n    }\n</style>\n<table border=\"1\" class=\"dataframe\">\n  <thead>\n    <tr style=\"text-align: right;\">\n      <th></th>\n      <th>GP</th>\n      <th>MIN</th>\n      <th>PTS</th>\n      <th>FGM</th>\n      <th>FGA</th>\n      <th>FTM</th>\n      <th>FTA</th>\n      <th>REB</th>\n      <th>AST</th>\n      <th>STL</th>\n      <th>BLK</th>\n      <th>TOV</th>\n      <th>HOF</th>\n      <th>year_start</th>\n      <th>year_end</th>\n    </tr>\n  </thead>\n  <tbody>\n    <tr>\n      <th>490</th>\n      <td>840.0</td>\n      <td>19917.0</td>\n      <td>7712.0</td>\n      <td>2663.0</td>\n      <td>6507.0</td>\n      <td>1463.0</td>\n      <td>1679.0</td>\n      <td>2269.0</td>\n      <td>3394.0</td>\n      <td>1133.0</td>\n      <td>98.0</td>\n      <td>1556.0</td>\n      <td>0.0</td>\n      <td>1995.0</td>\n      <td>2008.0</td>\n    </tr>\n    <tr>\n      <th>847</th>\n      <td>506.0</td>\n      <td>9866.0</td>\n      <td>4366.0</td>\n      <td>1792.0</td>\n      <td>3580.0</td>\n      <td>778.0</td>\n      <td>1210.0</td>\n      <td>2276.0</td>\n      <td>504.0</td>\n      <td>223.0</td>\n      <td>174.0</td>\n      <td>599.0</td>\n      <td>0.0</td>\n      <td>1996.0</td>\n      <td>2004.0</td>\n    </tr>\n    <tr>\n      <th>801</th>\n      <td>965.0</td>\n      <td>14712.0</td>\n      <td>4666.0</td>\n      <td>1902.0</td>\n      <td>4201.0</td>\n      <td>849.0</td>\n      <td>1069.0</td>\n      <td>3991.0</td>\n      <td>622.0</td>\n      <td>261.0</td>\n      <td>285.0</td>\n      <td>777.0</td>\n      <td>0.0</td>\n      <td>1986.0</td>\n      <td>2000.0</td>\n    </tr>\n    <tr>\n      <th>712</th>\n      <td>620.0</td>\n      <td>14395.0</td>\n      <td>5400.0</td>\n      <td>1993.0</td>\n      <td>4560.0</td>\n      <td>1373.0</td>\n      <td>1744.0</td>\n      <td>1318.0</td>\n      <td>3080.0</td>\n      <td>910.0</td>\n      <td>58.0</td>\n      <td>1240.0</td>\n      <td>0.0</td>\n      <td>1982.0</td>\n      <td>1991.0</td>\n    </tr>\n    <tr>\n      <th>1037</th>\n      <td>629.0</td>\n      <td>13580.0</td>\n      <td>3003.0</td>\n      <td>1163.0</td>\n      <td>2728.0</td>\n      <td>604.0</td>\n      <td>1036.0</td>\n      <td>2563.0</td>\n      <td>798.0</td>\n      <td>435.0</td>\n      <td>323.0</td>\n      <td>674.0</td>\n      <td>0.0</td>\n      <td>2003.0</td>\n      <td>2013.0</td>\n    </tr>\n  </tbody>\n</table>\n</div>"
     },
     "execution_count": 22,
     "metadata": {},
     "output_type": "execute_result"
    }
   ],
   "source": [
    "training_set = train.sample(frac=0.7, random_state=25)\n",
    "training_set.head()"
   ]
  },
  {
   "cell_type": "code",
   "execution_count": 23,
   "metadata": {
    "scrolled": true
   },
   "outputs": [
    {
     "data": {
      "text/plain": "        GP      MIN      PTS      FGM      FGA     FTM      FTA      REB  \\\n0   1560.0  57446.0  38387.0  15837.0  28307.0  6712.0   9304.0  17440.0   \n2   1346.0  48643.0  33643.0  11719.0  26200.0  8378.0  10011.0   7047.0   \n8   1303.0  50000.0  27313.0  10976.0  24272.0  5356.0   7999.0  16279.0   \n10  1040.0  43886.0  26710.0   9508.0  19620.0  7694.0   9185.0   7804.0   \n14  1270.0  46471.0  26395.0  10513.0  23930.0  5369.0   6589.0   8007.0   \n\n       AST     STL     BLK     TOV  HOF  year_start  year_end  \n0   5660.0  1160.0  3189.0  2527.0  1.0      1970.0    1989.0  \n2   6306.0  1944.0   640.0  4010.0  1.0      1997.0    2016.0  \n8   2398.0   864.0  1771.0  1358.0  1.0      1969.0    1984.0  \n10  9887.0    77.0     4.0   928.0  1.0      1961.0    1974.0  \n14  6114.0   476.0   117.0   204.0  1.0      1963.0    1978.0  ",
      "text/html": "<div>\n<style scoped>\n    .dataframe tbody tr th:only-of-type {\n        vertical-align: middle;\n    }\n\n    .dataframe tbody tr th {\n        vertical-align: top;\n    }\n\n    .dataframe thead th {\n        text-align: right;\n    }\n</style>\n<table border=\"1\" class=\"dataframe\">\n  <thead>\n    <tr style=\"text-align: right;\">\n      <th></th>\n      <th>GP</th>\n      <th>MIN</th>\n      <th>PTS</th>\n      <th>FGM</th>\n      <th>FGA</th>\n      <th>FTM</th>\n      <th>FTA</th>\n      <th>REB</th>\n      <th>AST</th>\n      <th>STL</th>\n      <th>BLK</th>\n      <th>TOV</th>\n      <th>HOF</th>\n      <th>year_start</th>\n      <th>year_end</th>\n    </tr>\n  </thead>\n  <tbody>\n    <tr>\n      <th>0</th>\n      <td>1560.0</td>\n      <td>57446.0</td>\n      <td>38387.0</td>\n      <td>15837.0</td>\n      <td>28307.0</td>\n      <td>6712.0</td>\n      <td>9304.0</td>\n      <td>17440.0</td>\n      <td>5660.0</td>\n      <td>1160.0</td>\n      <td>3189.0</td>\n      <td>2527.0</td>\n      <td>1.0</td>\n      <td>1970.0</td>\n      <td>1989.0</td>\n    </tr>\n    <tr>\n      <th>2</th>\n      <td>1346.0</td>\n      <td>48643.0</td>\n      <td>33643.0</td>\n      <td>11719.0</td>\n      <td>26200.0</td>\n      <td>8378.0</td>\n      <td>10011.0</td>\n      <td>7047.0</td>\n      <td>6306.0</td>\n      <td>1944.0</td>\n      <td>640.0</td>\n      <td>4010.0</td>\n      <td>1.0</td>\n      <td>1997.0</td>\n      <td>2016.0</td>\n    </tr>\n    <tr>\n      <th>8</th>\n      <td>1303.0</td>\n      <td>50000.0</td>\n      <td>27313.0</td>\n      <td>10976.0</td>\n      <td>24272.0</td>\n      <td>5356.0</td>\n      <td>7999.0</td>\n      <td>16279.0</td>\n      <td>2398.0</td>\n      <td>864.0</td>\n      <td>1771.0</td>\n      <td>1358.0</td>\n      <td>1.0</td>\n      <td>1969.0</td>\n      <td>1984.0</td>\n    </tr>\n    <tr>\n      <th>10</th>\n      <td>1040.0</td>\n      <td>43886.0</td>\n      <td>26710.0</td>\n      <td>9508.0</td>\n      <td>19620.0</td>\n      <td>7694.0</td>\n      <td>9185.0</td>\n      <td>7804.0</td>\n      <td>9887.0</td>\n      <td>77.0</td>\n      <td>4.0</td>\n      <td>928.0</td>\n      <td>1.0</td>\n      <td>1961.0</td>\n      <td>1974.0</td>\n    </tr>\n    <tr>\n      <th>14</th>\n      <td>1270.0</td>\n      <td>46471.0</td>\n      <td>26395.0</td>\n      <td>10513.0</td>\n      <td>23930.0</td>\n      <td>5369.0</td>\n      <td>6589.0</td>\n      <td>8007.0</td>\n      <td>6114.0</td>\n      <td>476.0</td>\n      <td>117.0</td>\n      <td>204.0</td>\n      <td>1.0</td>\n      <td>1963.0</td>\n      <td>1978.0</td>\n    </tr>\n  </tbody>\n</table>\n</div>"
     },
     "execution_count": 23,
     "metadata": {},
     "output_type": "execute_result"
    }
   ],
   "source": [
    "dev_set = train.drop(training_set.index)\n",
    "dev_set.head()"
   ]
  },
  {
   "cell_type": "code",
   "execution_count": 24,
   "metadata": {},
   "outputs": [],
   "source": [
    "train_set_y = training_set[\"HOF\"]\n",
    "train_set_x = training_set.drop(columns = [\"HOF\"])\n",
    "dev_set_y = dev_set[\"HOF\"]\n",
    "dev_set_x = dev_set.drop(columns = [\"HOF\"])"
   ]
  },
  {
   "cell_type": "markdown",
   "source": [
    "## Logistic Regression"
   ],
   "metadata": {
    "collapsed": false,
    "pycharm": {
     "name": "#%% md\n"
    }
   }
  },
  {
   "cell_type": "code",
   "execution_count": 25,
   "metadata": {
    "scrolled": true
   },
   "outputs": [
    {
     "name": "stderr",
     "output_type": "stream",
     "text": [
      "C:\\Users\\nahte\\AppData\\Local\\Programs\\Python\\Python39\\lib\\site-packages\\sklearn\\linear_model\\_logistic.py:814: ConvergenceWarning: lbfgs failed to converge (status=1):\n",
      "STOP: TOTAL NO. of ITERATIONS REACHED LIMIT.\n",
      "\n",
      "Increase the number of iterations (max_iter) or scale the data as shown in:\n",
      "    https://scikit-learn.org/stable/modules/preprocessing.html\n",
      "Please also refer to the documentation for alternative solver options:\n",
      "    https://scikit-learn.org/stable/modules/linear_model.html#logistic-regression\n",
      "  n_iter_i = _check_optimize_result(\n"
     ]
    },
    {
     "data": {
      "text/plain": "0.6708860759493671"
     },
     "execution_count": 25,
     "metadata": {},
     "output_type": "execute_result"
    }
   ],
   "source": [
    "from sklearn.linear_model import LogisticRegression\n",
    "from sklearn.metrics import f1_score\n",
    "from sklearn import metrics\n",
    "logreg = LogisticRegression()\n",
    "train_X = train_set_x.to_numpy()\n",
    "train_Y = train_set_y.to_numpy()\n",
    "logreg.fit(train_X, train_Y)\n",
    "train_y_pred = logreg.predict(train_X)\n",
    "f1_score(train_Y, train_y_pred)"
   ]
  },
  {
   "cell_type": "code",
   "execution_count": 26,
   "outputs": [],
   "source": [
    "def plot_cnf(cnf_matrix, modeltype, testtrain='test'):\n",
    "    class_names=[0,1] # name  of classes\n",
    "    fig, ax = plt.subplots()\n",
    "    tick_marks = np.arange(len(class_names))\n",
    "    plt.xticks(tick_marks, class_names)\n",
    "    plt.yticks(tick_marks, class_names)\n",
    "    # create heatmap\n",
    "    sns.heatmap(pd.DataFrame(cnf_matrix), annot=True, cmap=\"YlGnBu\" ,fmt='g')\n",
    "    ax.xaxis.set_label_position(\"top\")\n",
    "    plt.tight_layout()\n",
    "    plt.title(f'Confusion matrix {modeltype} {testtrain}', y=1.1)\n",
    "    plt.ylabel('Actual label')\n",
    "    plt.xlabel('Predicted label')\n",
    "    plt.savefig(f'{modeltype}.png')"
   ],
   "metadata": {
    "collapsed": false,
    "pycharm": {
     "name": "#%%\n"
    }
   }
  },
  {
   "cell_type": "code",
   "execution_count": null,
   "outputs": [],
   "source": [],
   "metadata": {
    "collapsed": false,
    "pycharm": {
     "name": "#%%\n"
    }
   }
  },
  {
   "cell_type": "code",
   "execution_count": 28,
   "metadata": {
    "pycharm": {
     "name": "#%%\n"
    }
   },
   "outputs": [
    {
     "data": {
      "text/plain": "0.6865671641791045"
     },
     "execution_count": 28,
     "metadata": {},
     "output_type": "execute_result"
    }
   ],
   "source": [
    "test_X = dev_set_x.to_numpy()\n",
    "test_Y = dev_set_y.to_numpy()\n",
    "test_y_pred = logreg.predict(test_X)\n",
    "f1_score(test_Y, test_y_pred)"
   ]
  },
  {
   "cell_type": "code",
   "execution_count": 29,
   "metadata": {},
   "outputs": [
    {
     "data": {
      "text/plain": "<Figure size 432x288 with 2 Axes>",
      "image/png": "[encoded data removed]"
     },
     "metadata": {
      "needs_background": "light"
     },
     "output_type": "display_data"
    }
   ],
   "source": [
    "cnf_matrix = metrics.confusion_matrix(test_Y, test_y_pred)\n",
    "plot_cnf(cnf_matrix, 'Logistic', 'Test')"
   ]
  },
  {
   "cell_type": "markdown",
   "source": [
    "## SVM"
   ],
   "metadata": {
    "collapsed": false
   }
  },
  {
   "cell_type": "code",
   "execution_count": 30,
   "outputs": [],
   "source": [
    "from sklearn.pipeline import make_pipeline\n",
    "from sklearn.preprocessing import StandardScaler\n",
    "from sklearn.svm import SVC"
   ],
   "metadata": {
    "collapsed": false,
    "pycharm": {
     "name": "#%%\n"
    }
   }
  },
  {
   "cell_type": "code",
   "execution_count": 31,
   "outputs": [
    {
     "data": {
      "text/plain": "0.7692307692307693"
     },
     "execution_count": 31,
     "metadata": {},
     "output_type": "execute_result"
    }
   ],
   "source": [
    "svm = make_pipeline(StandardScaler(), SVC(gamma='auto'))\n",
    "svm.fit(train_X, train_Y)\n",
    "train_y_pred = svm.predict(train_X)\n",
    "f1_score(train_Y, train_y_pred)"
   ],
   "metadata": {
    "collapsed": false,
    "pycharm": {
     "name": "#%%\n"
    }
   }
  },
  {
   "cell_type": "code",
   "execution_count": 32,
   "outputs": [
    {
     "data": {
      "text/plain": "<Figure size 432x288 with 2 Axes>",
      "image/png": "[encoded data removed]"
     },
     "metadata": {
      "needs_background": "light"
     },
     "output_type": "display_data"
    }
   ],
   "source": [
    "cnf_matrix = metrics.confusion_matrix(train_Y, train_y_pred)\n",
    "plot_cnf(cnf_matrix, 'SVM', 'Train')"
   ],
   "metadata": {
    "collapsed": false,
    "pycharm": {
     "name": "#%%\n"
    }
   }
  },
  {
   "cell_type": "code",
   "execution_count": 33,
   "outputs": [
    {
     "data": {
      "text/plain": "0.7714285714285714"
     },
     "execution_count": 33,
     "metadata": {},
     "output_type": "execute_result"
    }
   ],
   "source": [
    "test_y_pred = svm.predict(test_X)\n",
    "f1_score(test_Y, test_y_pred)"
   ],
   "metadata": {
    "collapsed": false,
    "pycharm": {
     "name": "#%%\n"
    }
   }
  },
  {
   "cell_type": "code",
   "execution_count": 34,
   "outputs": [
    {
     "data": {
      "text/plain": "<Figure size 432x288 with 2 Axes>",
      "image/png": "[encoded data removed]"
     },
     "metadata": {
      "needs_background": "light"
     },
     "output_type": "display_data"
    }
   ],
   "source": [
    "cnf_matrix = metrics.confusion_matrix(test_Y, test_y_pred)\n",
    "plot_cnf(cnf_matrix, 'SVM', 'Test')"
   ],
   "metadata": {
    "collapsed": false,
    "pycharm": {
     "name": "#%%\n"
    }
   }
  },
  {
   "cell_type": "markdown",
   "metadata": {},
   "source": [
    "## Random Forest"
   ]
  },
  {
   "cell_type": "code",
   "execution_count": 35,
   "metadata": {
    "pycharm": {
     "name": "#%%\n"
    }
   },
   "outputs": [
    {
     "data": {
      "text/plain": "0.9176470588235294"
     },
     "execution_count": 35,
     "metadata": {},
     "output_type": "execute_result"
    }
   ],
   "source": [
    "from sklearn.ensemble import RandomForestClassifier\n",
    "clf = RandomForestClassifier(max_depth=6, max_features = 6, random_state=0)\n",
    "clf.fit(train_X, train_Y)\n",
    "train_y_pred = clf.predict(train_X)\n",
    "f1_score(train_Y, train_y_pred)"
   ]
  },
  {
   "cell_type": "code",
   "execution_count": 36,
   "metadata": {
    "pycharm": {
     "name": "#%%\n"
    }
   },
   "outputs": [
    {
     "data": {
      "text/plain": "<Figure size 432x288 with 2 Axes>",
      "image/png": "[encoded data removed]"
     },
     "metadata": {
      "needs_background": "light"
     },
     "output_type": "display_data"
    }
   ],
   "source": [
    "cnf_matrix = metrics.confusion_matrix(train_Y, train_y_pred)\n",
    "plot_cnf(cnf_matrix, 'Random Forest', 'Train')"
   ]
  },
  {
   "cell_type": "code",
   "execution_count": 37,
   "metadata": {
    "pycharm": {
     "name": "#%%\n"
    }
   },
   "outputs": [
    {
     "data": {
      "text/plain": "0.7323943661971831"
     },
     "execution_count": 37,
     "metadata": {},
     "output_type": "execute_result"
    }
   ],
   "source": [
    "test_y_pred = clf.predict(test_X)\n",
    "f1_score(test_Y, test_y_pred)"
   ]
  },
  {
   "cell_type": "code",
   "execution_count": 38,
   "metadata": {
    "pycharm": {
     "name": "#%%\n"
    }
   },
   "outputs": [
    {
     "data": {
      "text/plain": "<Figure size 432x288 with 2 Axes>",
      "image/png": "[encoded data removed]"
     },
     "metadata": {
      "needs_background": "light"
     },
     "output_type": "display_data"
    }
   ],
   "source": [
    "cnf_matrix = metrics.confusion_matrix(test_Y, test_y_pred)\n",
    "plot_cnf(cnf_matrix, 'Random Forest', 'Test')"
   ]
  },
  {
   "cell_type": "code",
   "execution_count": 39,
   "metadata": {
    "pycharm": {
     "name": "#%%\n"
    }
   },
   "outputs": [],
   "source": [
    "X_error = dev_set[test_y_pred != test_Y]"
   ]
  },
  {
   "cell_type": "code",
   "execution_count": 40,
   "metadata": {
    "pycharm": {
     "name": "#%%\n"
    }
   },
   "outputs": [
    {
     "data": {
      "text/plain": "         GP      MIN      PTS     FGM      FGA     FTM     FTA     REB  \\\n31   1335.0  47117.0  21813.0  8708.0  18698.0  3265.0  4480.0  5269.0   \n41   1107.0  33921.0  20049.0  7378.0  15749.0  5066.0  6274.0  6703.0   \n54   1026.0  34603.0  19015.0  7057.0  14973.0  4663.0  5644.0  3349.0   \n62    923.0  27730.0  18458.0  7201.0  14865.0  3664.0  4944.0  4578.0   \n82    971.0  30118.0  17335.0  6830.0  12334.0  3634.0  4554.0  7122.0   \n87    893.0  31936.0  17189.0  6209.0  12581.0  4466.0  5591.0  7592.0   \n89   1026.0  34778.0  17137.0  6345.0  13126.0  4228.0  5498.0  6169.0   \n156   875.0  31202.0  14053.0  5722.0  13249.0  2609.0  3730.0  9618.0   \n170   654.0  22406.0  13626.0  5116.0  11467.0  3394.0  4717.0  6638.0   \n265   509.0  16305.0  11264.0  4213.0   8365.0  2815.0  3616.0  1921.0   \n323   699.0  23338.0  10068.0  3715.0   9378.0  2638.0  3273.0  2855.0   \n333   581.0  20140.0   9944.0  4126.0   9383.0  1692.0  2420.0  7379.0   \n368   845.0  22665.0   9280.0  3433.0   9763.0  2414.0  3447.0  5999.0   \n435   499.0  17234.0   8233.0  3013.0   6453.0  2207.0  2811.0  3971.0   \n522   745.0  21889.0   7337.0  2632.0   7224.0  2073.0  2720.0  2302.0   \n586   462.0   8617.0   6594.0  2292.0   6067.0  2010.0  2647.0   980.0   \n598   701.0  15378.0   6384.0  2323.0   6318.0  1738.0  2499.0  2395.0   \n638   738.0  17170.0   5921.0  2048.0   5259.0  1825.0  2836.0  2784.0   \n668   438.0   9391.0   5762.0  2299.0   6379.0  1164.0  1552.0  2487.0   \n\n        AST     STL     BLK     TOV  HOF  year_start  year_end  \n31   8966.0  2445.0   285.0  3030.0  1.0      2017.0    2018.0  \n41   2283.0   885.0   627.0  2549.0  0.0      1982.0    1998.0  \n54   6453.0  1206.0   236.0  3493.0  0.0      1979.0    1991.0  \n62   2871.0   687.0   296.0  2306.0  0.0      1982.0    1994.0  \n82   1670.0   344.0  1690.0  1893.0  1.0      1981.0    1993.0  \n87   1795.0   730.0   932.0  1807.0  1.0      2004.0    2016.0  \n89   4252.0  1248.0   576.0  2459.0  1.0      1995.0    2013.0  \n156  2497.0    67.0    39.0   928.0  1.0      1963.0    1974.0  \n170  2625.0   115.0    45.0   928.0  1.0      1966.0    1976.0  \n265  1631.0   459.0   407.0  1129.0  1.0      1976.0    1984.0  \n323  2608.0   481.5   217.5   928.0  0.0      1955.0    1964.0  \n333  1541.0   481.5   217.5   928.0  1.0      1964.0    1973.0  \n368  1502.0   481.5   217.5   928.0  0.0      1949.0    1962.0  \n435  2052.0   244.0   150.0   928.0  1.0      1968.0    1976.0  \n522  3160.0   481.5   217.5   928.0  1.0      1950.0    1960.0  \n586  2250.0   481.5   217.5   928.0  1.0      1949.0    1955.0  \n598  3759.0   481.5   217.5   928.0  1.0      1948.0    1958.0  \n638  4205.0   481.5   217.5   928.0  1.0      1950.0    1960.0  \n668  1417.0   481.5   217.5   928.0  1.0      1949.0    1955.0  ",
      "text/html": "<div>\n<style scoped>\n    .dataframe tbody tr th:only-of-type {\n        vertical-align: middle;\n    }\n\n    .dataframe tbody tr th {\n        vertical-align: top;\n    }\n\n    .dataframe thead th {\n        text-align: right;\n    }\n</style>\n<table border=\"1\" class=\"dataframe\">\n  <thead>\n    <tr style=\"text-align: right;\">\n      <th></th>\n      <th>GP</th>\n      <th>MIN</th>\n      <th>PTS</th>\n      <th>FGM</th>\n      <th>FGA</th>\n      <th>FTM</th>\n      <th>FTA</th>\n      <th>REB</th>\n      <th>AST</th>\n      <th>STL</th>\n      <th>BLK</th>\n      <th>TOV</th>\n      <th>HOF</th>\n      <th>year_start</th>\n      <th>year_end</th>\n    </tr>\n  </thead>\n  <tbody>\n    <tr>\n      <th>31</th>\n      <td>1335.0</td>\n      <td>47117.0</td>\n      <td>21813.0</td>\n      <td>8708.0</td>\n      <td>18698.0</td>\n      <td>3265.0</td>\n      <td>4480.0</td>\n      <td>5269.0</td>\n      <td>8966.0</td>\n      <td>2445.0</td>\n      <td>285.0</td>\n      <td>3030.0</td>\n      <td>1.0</td>\n      <td>2017.0</td>\n      <td>2018.0</td>\n    </tr>\n    <tr>\n      <th>41</th>\n      <td>1107.0</td>\n      <td>33921.0</td>\n      <td>20049.0</td>\n      <td>7378.0</td>\n      <td>15749.0</td>\n      <td>5066.0</td>\n      <td>6274.0</td>\n      <td>6703.0</td>\n      <td>2283.0</td>\n      <td>885.0</td>\n      <td>627.0</td>\n      <td>2549.0</td>\n      <td>0.0</td>\n      <td>1982.0</td>\n      <td>1998.0</td>\n    </tr>\n    <tr>\n      <th>54</th>\n      <td>1026.0</td>\n      <td>34603.0</td>\n      <td>19015.0</td>\n      <td>7057.0</td>\n      <td>14973.0</td>\n      <td>4663.0</td>\n      <td>5644.0</td>\n      <td>3349.0</td>\n      <td>6453.0</td>\n      <td>1206.0</td>\n      <td>236.0</td>\n      <td>3493.0</td>\n      <td>0.0</td>\n      <td>1979.0</td>\n      <td>1991.0</td>\n    </tr>\n    <tr>\n      <th>62</th>\n      <td>923.0</td>\n      <td>27730.0</td>\n      <td>18458.0</td>\n      <td>7201.0</td>\n      <td>14865.0</td>\n      <td>3664.0</td>\n      <td>4944.0</td>\n      <td>4578.0</td>\n      <td>2871.0</td>\n      <td>687.0</td>\n      <td>296.0</td>\n      <td>2306.0</td>\n      <td>0.0</td>\n      <td>1982.0</td>\n      <td>1994.0</td>\n    </tr>\n    <tr>\n      <th>82</th>\n      <td>971.0</td>\n      <td>30118.0</td>\n      <td>17335.0</td>\n      <td>6830.0</td>\n      <td>12334.0</td>\n      <td>3634.0</td>\n      <td>4554.0</td>\n      <td>7122.0</td>\n      <td>1670.0</td>\n      <td>344.0</td>\n      <td>1690.0</td>\n      <td>1893.0</td>\n      <td>1.0</td>\n      <td>1981.0</td>\n      <td>1993.0</td>\n    </tr>\n    <tr>\n      <th>87</th>\n      <td>893.0</td>\n      <td>31936.0</td>\n      <td>17189.0</td>\n      <td>6209.0</td>\n      <td>12581.0</td>\n      <td>4466.0</td>\n      <td>5591.0</td>\n      <td>7592.0</td>\n      <td>1795.0</td>\n      <td>730.0</td>\n      <td>932.0</td>\n      <td>1807.0</td>\n      <td>1.0</td>\n      <td>2004.0</td>\n      <td>2016.0</td>\n    </tr>\n    <tr>\n      <th>89</th>\n      <td>1026.0</td>\n      <td>34778.0</td>\n      <td>17137.0</td>\n      <td>6345.0</td>\n      <td>13126.0</td>\n      <td>4228.0</td>\n      <td>5498.0</td>\n      <td>6169.0</td>\n      <td>4252.0</td>\n      <td>1248.0</td>\n      <td>576.0</td>\n      <td>2459.0</td>\n      <td>1.0</td>\n      <td>1995.0</td>\n      <td>2013.0</td>\n    </tr>\n    <tr>\n      <th>156</th>\n      <td>875.0</td>\n      <td>31202.0</td>\n      <td>14053.0</td>\n      <td>5722.0</td>\n      <td>13249.0</td>\n      <td>2609.0</td>\n      <td>3730.0</td>\n      <td>9618.0</td>\n      <td>2497.0</td>\n      <td>67.0</td>\n      <td>39.0</td>\n      <td>928.0</td>\n      <td>1.0</td>\n      <td>1963.0</td>\n      <td>1974.0</td>\n    </tr>\n    <tr>\n      <th>170</th>\n      <td>654.0</td>\n      <td>22406.0</td>\n      <td>13626.0</td>\n      <td>5116.0</td>\n      <td>11467.0</td>\n      <td>3394.0</td>\n      <td>4717.0</td>\n      <td>6638.0</td>\n      <td>2625.0</td>\n      <td>115.0</td>\n      <td>45.0</td>\n      <td>928.0</td>\n      <td>1.0</td>\n      <td>1966.0</td>\n      <td>1976.0</td>\n    </tr>\n    <tr>\n      <th>265</th>\n      <td>509.0</td>\n      <td>16305.0</td>\n      <td>11264.0</td>\n      <td>4213.0</td>\n      <td>8365.0</td>\n      <td>2815.0</td>\n      <td>3616.0</td>\n      <td>1921.0</td>\n      <td>1631.0</td>\n      <td>459.0</td>\n      <td>407.0</td>\n      <td>1129.0</td>\n      <td>1.0</td>\n      <td>1976.0</td>\n      <td>1984.0</td>\n    </tr>\n    <tr>\n      <th>323</th>\n      <td>699.0</td>\n      <td>23338.0</td>\n      <td>10068.0</td>\n      <td>3715.0</td>\n      <td>9378.0</td>\n      <td>2638.0</td>\n      <td>3273.0</td>\n      <td>2855.0</td>\n      <td>2608.0</td>\n      <td>481.5</td>\n      <td>217.5</td>\n      <td>928.0</td>\n      <td>0.0</td>\n      <td>1955.0</td>\n      <td>1964.0</td>\n    </tr>\n    <tr>\n      <th>333</th>\n      <td>581.0</td>\n      <td>20140.0</td>\n      <td>9944.0</td>\n      <td>4126.0</td>\n      <td>9383.0</td>\n      <td>1692.0</td>\n      <td>2420.0</td>\n      <td>7379.0</td>\n      <td>1541.0</td>\n      <td>481.5</td>\n      <td>217.5</td>\n      <td>928.0</td>\n      <td>1.0</td>\n      <td>1964.0</td>\n      <td>1973.0</td>\n    </tr>\n    <tr>\n      <th>368</th>\n      <td>845.0</td>\n      <td>22665.0</td>\n      <td>9280.0</td>\n      <td>3433.0</td>\n      <td>9763.0</td>\n      <td>2414.0</td>\n      <td>3447.0</td>\n      <td>5999.0</td>\n      <td>1502.0</td>\n      <td>481.5</td>\n      <td>217.5</td>\n      <td>928.0</td>\n      <td>0.0</td>\n      <td>1949.0</td>\n      <td>1962.0</td>\n    </tr>\n    <tr>\n      <th>435</th>\n      <td>499.0</td>\n      <td>17234.0</td>\n      <td>8233.0</td>\n      <td>3013.0</td>\n      <td>6453.0</td>\n      <td>2207.0</td>\n      <td>2811.0</td>\n      <td>3971.0</td>\n      <td>2052.0</td>\n      <td>244.0</td>\n      <td>150.0</td>\n      <td>928.0</td>\n      <td>1.0</td>\n      <td>1968.0</td>\n      <td>1976.0</td>\n    </tr>\n    <tr>\n      <th>522</th>\n      <td>745.0</td>\n      <td>21889.0</td>\n      <td>7337.0</td>\n      <td>2632.0</td>\n      <td>7224.0</td>\n      <td>2073.0</td>\n      <td>2720.0</td>\n      <td>2302.0</td>\n      <td>3160.0</td>\n      <td>481.5</td>\n      <td>217.5</td>\n      <td>928.0</td>\n      <td>1.0</td>\n      <td>1950.0</td>\n      <td>1960.0</td>\n    </tr>\n    <tr>\n      <th>586</th>\n      <td>462.0</td>\n      <td>8617.0</td>\n      <td>6594.0</td>\n      <td>2292.0</td>\n      <td>6067.0</td>\n      <td>2010.0</td>\n      <td>2647.0</td>\n      <td>980.0</td>\n      <td>2250.0</td>\n      <td>481.5</td>\n      <td>217.5</td>\n      <td>928.0</td>\n      <td>1.0</td>\n      <td>1949.0</td>\n      <td>1955.0</td>\n    </tr>\n    <tr>\n      <th>598</th>\n      <td>701.0</td>\n      <td>15378.0</td>\n      <td>6384.0</td>\n      <td>2323.0</td>\n      <td>6318.0</td>\n      <td>1738.0</td>\n      <td>2499.0</td>\n      <td>2395.0</td>\n      <td>3759.0</td>\n      <td>481.5</td>\n      <td>217.5</td>\n      <td>928.0</td>\n      <td>1.0</td>\n      <td>1948.0</td>\n      <td>1958.0</td>\n    </tr>\n    <tr>\n      <th>638</th>\n      <td>738.0</td>\n      <td>17170.0</td>\n      <td>5921.0</td>\n      <td>2048.0</td>\n      <td>5259.0</td>\n      <td>1825.0</td>\n      <td>2836.0</td>\n      <td>2784.0</td>\n      <td>4205.0</td>\n      <td>481.5</td>\n      <td>217.5</td>\n      <td>928.0</td>\n      <td>1.0</td>\n      <td>1950.0</td>\n      <td>1960.0</td>\n    </tr>\n    <tr>\n      <th>668</th>\n      <td>438.0</td>\n      <td>9391.0</td>\n      <td>5762.0</td>\n      <td>2299.0</td>\n      <td>6379.0</td>\n      <td>1164.0</td>\n      <td>1552.0</td>\n      <td>2487.0</td>\n      <td>1417.0</td>\n      <td>481.5</td>\n      <td>217.5</td>\n      <td>928.0</td>\n      <td>1.0</td>\n      <td>1949.0</td>\n      <td>1955.0</td>\n    </tr>\n  </tbody>\n</table>\n</div>"
     },
     "execution_count": 40,
     "metadata": {},
     "output_type": "execute_result"
    }
   ],
   "source": [
    "X_error"
   ]
  },
  {
   "cell_type": "markdown",
   "metadata": {},
   "source": [
    "## Predict whether active player will be in HOF"
   ]
  },
  {
   "cell_type": "code",
   "execution_count": 42,
   "metadata": {
    "pycharm": {
     "name": "#%%\n"
    }
   },
   "outputs": [
    {
     "data": {
      "text/plain": "       GP    MIN    PTS    FGM    FGA   FTM    FTA   REB   AST   STL   BLK  \\\n0    1325  50605  35757  13051  25900  7635  10406  9838  9799  2092   994   \n1    1218  42471  27736   9923  22205  6243   7673  7631  3378  1196   607   \n2     908  33333  24567   8388  16934  6095   6908  6421  3811   989  1005   \n3     903  31140  22587   6667  15040  6744   7851  5000  5980  1403   493   \n4     970  33719  22384   7971  18211  5343   6782  7170  8292  1656   299   \n..    ...    ...    ...    ...    ...   ...    ...   ...   ...   ...   ...   \n134   448   9654   2453    843   2175   405    508  1399   662   307    99   \n135   408   7342   2359    911   2108   294    357   690  1476   401    33   \n136   304   9445   5694   2057   4655  1028   1263  2376   455   212   577   \n137   275   9326   4382   1784   3188   809   1354  2217  2127   464   199   \n138   380  11086   6727   2459   5871   882   1138  1368  2045   427   113   \n\n      TOV  year_start  year_end  \n0    4646        2004      2018  \n1    3016        2004      2018  \n2    2847        2008      2018  \n3    3385        2010      2018  \n4    4018        2009      2018  \n..    ...         ...       ...  \n134   377        2014      2017  \n135   300        2016      2018  \n136   499        2016      2018  \n137   925        2018      2018  \n138  1087        2016      2018  \n\n[139 rows x 14 columns]",
      "text/html": "<div>\n<style scoped>\n    .dataframe tbody tr th:only-of-type {\n        vertical-align: middle;\n    }\n\n    .dataframe tbody tr th {\n        vertical-align: top;\n    }\n\n    .dataframe thead th {\n        text-align: right;\n    }\n</style>\n<table border=\"1\" class=\"dataframe\">\n  <thead>\n    <tr style=\"text-align: right;\">\n      <th></th>\n      <th>GP</th>\n      <th>MIN</th>\n      <th>PTS</th>\n      <th>FGM</th>\n      <th>FGA</th>\n      <th>FTM</th>\n      <th>FTA</th>\n      <th>REB</th>\n      <th>AST</th>\n      <th>STL</th>\n      <th>BLK</th>\n      <th>TOV</th>\n      <th>year_start</th>\n      <th>year_end</th>\n    </tr>\n  </thead>\n  <tbody>\n    <tr>\n      <th>0</th>\n      <td>1325</td>\n      <td>50605</td>\n      <td>35757</td>\n      <td>13051</td>\n      <td>25900</td>\n      <td>7635</td>\n      <td>10406</td>\n      <td>9838</td>\n      <td>9799</td>\n      <td>2092</td>\n      <td>994</td>\n      <td>4646</td>\n      <td>2004</td>\n      <td>2018</td>\n    </tr>\n    <tr>\n      <th>1</th>\n      <td>1218</td>\n      <td>42471</td>\n      <td>27736</td>\n      <td>9923</td>\n      <td>22205</td>\n      <td>6243</td>\n      <td>7673</td>\n      <td>7631</td>\n      <td>3378</td>\n      <td>1196</td>\n      <td>607</td>\n      <td>3016</td>\n      <td>2004</td>\n      <td>2018</td>\n    </tr>\n    <tr>\n      <th>2</th>\n      <td>908</td>\n      <td>33333</td>\n      <td>24567</td>\n      <td>8388</td>\n      <td>16934</td>\n      <td>6095</td>\n      <td>6908</td>\n      <td>6421</td>\n      <td>3811</td>\n      <td>989</td>\n      <td>1005</td>\n      <td>2847</td>\n      <td>2008</td>\n      <td>2018</td>\n    </tr>\n    <tr>\n      <th>3</th>\n      <td>903</td>\n      <td>31140</td>\n      <td>22587</td>\n      <td>6667</td>\n      <td>15040</td>\n      <td>6744</td>\n      <td>7851</td>\n      <td>5000</td>\n      <td>5980</td>\n      <td>1403</td>\n      <td>493</td>\n      <td>3385</td>\n      <td>2010</td>\n      <td>2018</td>\n    </tr>\n    <tr>\n      <th>4</th>\n      <td>970</td>\n      <td>33719</td>\n      <td>22384</td>\n      <td>7971</td>\n      <td>18211</td>\n      <td>5343</td>\n      <td>6782</td>\n      <td>7170</td>\n      <td>8292</td>\n      <td>1656</td>\n      <td>299</td>\n      <td>4018</td>\n      <td>2009</td>\n      <td>2018</td>\n    </tr>\n    <tr>\n      <th>...</th>\n      <td>...</td>\n      <td>...</td>\n      <td>...</td>\n      <td>...</td>\n      <td>...</td>\n      <td>...</td>\n      <td>...</td>\n      <td>...</td>\n      <td>...</td>\n      <td>...</td>\n      <td>...</td>\n      <td>...</td>\n      <td>...</td>\n      <td>...</td>\n    </tr>\n    <tr>\n      <th>134</th>\n      <td>448</td>\n      <td>9654</td>\n      <td>2453</td>\n      <td>843</td>\n      <td>2175</td>\n      <td>405</td>\n      <td>508</td>\n      <td>1399</td>\n      <td>662</td>\n      <td>307</td>\n      <td>99</td>\n      <td>377</td>\n      <td>2014</td>\n      <td>2017</td>\n    </tr>\n    <tr>\n      <th>135</th>\n      <td>408</td>\n      <td>7342</td>\n      <td>2359</td>\n      <td>911</td>\n      <td>2108</td>\n      <td>294</td>\n      <td>357</td>\n      <td>690</td>\n      <td>1476</td>\n      <td>401</td>\n      <td>33</td>\n      <td>300</td>\n      <td>2016</td>\n      <td>2018</td>\n    </tr>\n    <tr>\n      <th>136</th>\n      <td>304</td>\n      <td>9445</td>\n      <td>5694</td>\n      <td>2057</td>\n      <td>4655</td>\n      <td>1028</td>\n      <td>1263</td>\n      <td>2376</td>\n      <td>455</td>\n      <td>212</td>\n      <td>577</td>\n      <td>499</td>\n      <td>2016</td>\n      <td>2018</td>\n    </tr>\n    <tr>\n      <th>137</th>\n      <td>275</td>\n      <td>9326</td>\n      <td>4382</td>\n      <td>1784</td>\n      <td>3188</td>\n      <td>809</td>\n      <td>1354</td>\n      <td>2217</td>\n      <td>2127</td>\n      <td>464</td>\n      <td>199</td>\n      <td>925</td>\n      <td>2018</td>\n      <td>2018</td>\n    </tr>\n    <tr>\n      <th>138</th>\n      <td>380</td>\n      <td>11086</td>\n      <td>6727</td>\n      <td>2459</td>\n      <td>5871</td>\n      <td>882</td>\n      <td>1138</td>\n      <td>1368</td>\n      <td>2045</td>\n      <td>427</td>\n      <td>113</td>\n      <td>1087</td>\n      <td>2016</td>\n      <td>2018</td>\n    </tr>\n  </tbody>\n</table>\n<p>139 rows × 14 columns</p>\n</div>"
     },
     "execution_count": 42,
     "metadata": {},
     "output_type": "execute_result"
    }
   ],
   "source": [
    "#active = normalize(df2[train_set_x.columns])\n",
    "active = df2.merge(df3, how='inner', on='PLAYER').drop(columns=['PLAYER', '#', 'college', 'position', 'height', 'weight', 'birth_date', 'HOF', 'OREB', 'DREB'])\n",
    "active = active.drop(columns = corr.index[-7:])\n",
    "active"
   ]
  },
  {
   "cell_type": "code",
   "execution_count": 43,
   "metadata": {
    "pycharm": {
     "name": "#%%\n"
    }
   },
   "outputs": [
    {
     "name": "stdout",
     "output_type": "stream",
     "text": [
      "GP            0\n",
      "MIN           0\n",
      "PTS           0\n",
      "FGM           0\n",
      "FGA           0\n",
      "FTM           0\n",
      "FTA           0\n",
      "REB           0\n",
      "AST           0\n",
      "STL           0\n",
      "BLK           0\n",
      "TOV           0\n",
      "year_start    0\n",
      "year_end      0\n",
      "dtype: int64\n"
     ]
    },
    {
     "name": "stderr",
     "output_type": "stream",
     "text": [
      "C:\\Users\\nahte\\AppData\\Local\\Programs\\Python\\Python39\\lib\\site-packages\\sklearn\\base.py:438: UserWarning: X has feature names, but LogisticRegression was fitted without feature names\n",
      "  warnings.warn(\n"
     ]
    }
   ],
   "source": [
    "print(active.isna().sum())\n",
    "active_pred = logreg.predict(active)"
   ]
  },
  {
   "cell_type": "code",
   "execution_count": 44,
   "metadata": {
    "pycharm": {
     "name": "#%%\n"
    }
   },
   "outputs": [
    {
     "name": "stdout",
     "output_type": "stream",
     "text": [
      "[('LeBron James', 1.0), ('Carmelo Anthony', 1.0), ('Kevin Durant', 1.0), ('James Harden', 1.0), ('Russell Westbrook', 1.0), ('Chris Paul', 1.0), ('LaMarcus Aldridge', 1.0), ('Dwight Howard', 1.0), ('Stephen Curry', 0.0), ('DeMar DeRozan', 1.0), ('Damian Lillard', 0.0), ('Rudy Gay', 0.0), ('Lou Williams', 0.0), ('Paul George', 0.0), ('Kyle Lowry', 0.0), ('Paul Millsap', 0.0), ('Kemba Walker', 0.0), ('Brook Lopez', 0.0), ('Blake Griffin', 0.0), ('Anthony Davis', 1.0), ('Andre Iguodala', 0.0), ('Bradley Beal', 0.0), ('Thaddeus Young', 0.0), ('Mike Conley', 0.0), ('Kevin Love', 0.0), ('Kyrie Irving', 0.0), ('Giannis Antetokounmpo', 1.0), ('Jeff Green', 0.0), ('Jrue Holiday', 0.0), ('Al Horford', 0.0), ('DeMarcus Cousins', 1.0), ('Derrick Rose', 0.0), ('Goran Dragic', 0.0), ('Klay Thompson', 0.0), ('Eric Gordon', 0.0), ('John Wall', 1.0), ('Nikola Vucevic', 0.0), ('Trevor Ariza', 0.0), ('Jimmy Butler', 1.0), ('Tobias Harris', 0.0), ('Gordon Hayward', 0.0), ('Kawhi Leonard', 0.0), ('Danilo Gallinari', 0.0), ('Andrew Wiggins', 0.0), ('Wesley Matthews', 0.0), ('Serge Ibaka', 0.0), ('CJ McCollum', 0.0), ('Khris Middleton', 0.0), ('Eric Bledsoe', 0.0), ('Karl-Anthony Towns', 0.0), ('Devin Booker', 0.0), ('Nicolas Batum', 0.0), ('Harrison Barnes', 0.0), ('Andre Drummond', 0.0), ('Rajon Rondo', 0.0), ('George Hill', 0.0), ('D.J. Augustin', 0.0), ('Nikola Jokic', 0.0), ('DeAndre Jordan', 0.0), ('Jonas Valanciunas', 0.0), ('Zach LaVine', 0.0), ('Evan Fournier', 0.0), ('Dennis Schroder', 0.0), ('Reggie Jackson', 0.0), ('Jordan Clarkson', 0.0), ('Enes Freedom', 0.0), ('Derrick Favors', 0.0), ('Julius Randle', 0.0), ('Marcus Morris Sr.', 0.0), ('Bojan Bogdanovic', 0.0), ('Robin Lopez', 0.0), ('Victor Oladipo', 0.0), ('Tim Hardaway Jr.', 0.0), ('Taj Gibson', 0.0), ('Markieff Morris', 0.0), ('Ricky Rubio', 0.0), ('Kentavious Caldwell-Pope', 0.0), ('Terrence Ross', 0.0), ('Avery Bradley', 0.0), ('Rudy Gobert', 0.0), ('Patty Mills', 0.0), ('Danny Green', 0.0), ('Jae Crowder', 0.0), ('Buddy Hield', 0.0), ('Will Barton', 0.0), ('Udonis Haslem', 0.0), ('Tristan Thompson', 0.0), ('JaVale McGee', 0.0), ('Aaron Gordon', 0.0), ('Hassan Whiteside', 0.0), ('Wayne Ellington', 0.0), ('Alec Burks', 0.0), ('Jerami Grant', 0.0), ('Kelly Olynyk', 0.0), ('Steven Adams', 0.0), ('Draymond Green', 0.0), ('Robert Covington', 0.0), ('Jeremy Lamb', 0.0), ('James Johnson', 0.0), ('Austin Rivers', 0.0), ('Kent Bazemore', 0.0), ('Montrezl Harrell', 0.0), ('Clint Capela', 0.0), ('Myles Turner', 0.0), ('P.J. Tucker', 0.0), ('Mason Plumlee', 0.0), ('Ish Smith', 0.0), ('Kelly Oubre Jr.', 0.0), ('Gary Harris', 0.0), ('Otto Porter Jr.', 0.0), ('Joe Ingles', 0.0), ('Terry Rozier', 0.0), ('Elfrid Payton', 0.0), ('Marcus Smart', 0.0), ('Cory Joseph', 0.0), (\"E'Twaun Moore\", 0.0), ('Trey Burke', 0.0), ('Joe Harris', 0.0), ('Rodney Hood', 0.0), ('Justin Holiday', 0.0), ('Doug McDermott', 0.0), ('Ben McLemore', 0.0), ('Gorgui Dieng', 0.0), ('Bobby Portis', 0.0), ('Ed Davis', 0.0), ('Patrick Beverley', 0.0), ('Alex Len', 0.0), ('Garrett Temple', 0.0), ('Cody Zeller', 0.0), ('Maurice Harkless', 0.0), ('Willie Cauley-Stein', 0.0), ('JaMychal Green', 0.0), ('Tony Snell', 0.0), ('Dwight Powell', 0.0), ('T.J. McConnell', 0.0), ('Nerlens Noel', 0.0), ('Nemanja Bjelica', 0.0), ('Kyle Anderson', 0.0), ('Dewayne Dedmon', 0.0)]\n"
     ]
    }
   ],
   "source": [
    "print(list(zip(df2['PLAYER'], active_pred)))"
   ]
  }
 ],
 "metadata": {
  "kernelspec": {
   "display_name": "Python 3",
   "language": "python",
   "name": "python3"
  },
  "language_info": {
   "codemirror_mode": {
    "name": "ipython",
    "version": 3
   },
   "file_extension": ".py",
   "mimetype": "text/x-python",
   "name": "python",
   "nbconvert_exporter": "python",
   "pygments_lexer": "ipython3",
   "version": "3.7.3"
  }
 },
 "nbformat": 4,
 "nbformat_minor": 2
}